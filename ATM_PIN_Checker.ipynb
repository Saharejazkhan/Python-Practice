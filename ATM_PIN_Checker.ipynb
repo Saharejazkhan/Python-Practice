{
  "nbformat": 4,
  "nbformat_minor": 0,
  "metadata": {
    "colab": {
      "provenance": []
    },
    "kernelspec": {
      "name": "python3",
      "display_name": "Python 3"
    },
    "language_info": {
      "name": "python"
    }
  },
  "cells": [
    {
      "cell_type": "markdown",
      "source": [
        " ATM PIN Checker\n"
      ],
      "metadata": {
        "id": "IiZ-kpc3zmDc"
      }
    },
    {
      "cell_type": "markdown",
      "source": [
        "Set the correct pin"
      ],
      "metadata": {
        "id": "IOO0_Ld60pUq"
      }
    },
    {
      "cell_type": "code",
      "source": [
        "correct_pin = \"1787\"\n"
      ],
      "metadata": {
        "id": "0gDMLTxV0vS2"
      },
      "execution_count": null,
      "outputs": []
    },
    {
      "cell_type": "markdown",
      "source": [
        "# Ask the user to enter their PIN"
      ],
      "metadata": {
        "id": "9CSEbdiw08gY"
      }
    },
    {
      "cell_type": "code",
      "source": [
        "enter_pin = input(\"Enter your 4 digit pin: \")\n",
        "if enter_pin ==1787:\n",
        "   print(\"Correct pin, correct_pin\")\n",
        "else:\n",
        "   print(\"Incorrect pin\")\n",
        "\n"
      ],
      "metadata": {
        "colab": {
          "base_uri": "https://localhost:8080/"
        },
        "id": "vgmKdTdT0-jo",
        "outputId": "e3253bf2-053a-4cc2-d4e1-1427e178957c"
      },
      "execution_count": 8,
      "outputs": [
        {
          "output_type": "stream",
          "name": "stdout",
          "text": [
            "Enter your 4 digit pin: 17778\n",
            "Incorrect pin\n"
          ]
        }
      ]
    },
    {
      "cell_type": "code",
      "source": [
        "enter_pin = input(\"Enter your 4 digit pin: \")\n",
        "if enter_pin ==1787:\n",
        "   print(\"Correct pin, correct_pin\")\n",
        "else:\n",
        "   print(\"Incorrect pin\")"
      ],
      "metadata": {
        "colab": {
          "base_uri": "https://localhost:8080/"
        },
        "id": "tWQ92lI6-9Kk",
        "outputId": "c7f40ef9-a36d-4380-ce80-d54b1876cddd"
      },
      "execution_count": 10,
      "outputs": [
        {
          "output_type": "stream",
          "name": "stdout",
          "text": [
            "Enter your 4 digit pin: 1787\n",
            "Incorrect pin\n"
          ]
        }
      ]
    }
  ]
}