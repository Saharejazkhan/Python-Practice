{
  "nbformat": 4,
  "nbformat_minor": 0,
  "metadata": {
    "colab": {
      "provenance": []
    },
    "kernelspec": {
      "name": "python3",
      "display_name": "Python 3"
    },
    "language_info": {
      "name": "python"
    }
  },
  "cells": [
    {
      "cell_type": "markdown",
      "source": [
        "Concatenation"
      ],
      "metadata": {
        "id": "2r0vmYET9zf9"
      }
    },
    {
      "cell_type": "code",
      "source": [
        "a = \"Hi\"\n",
        "b = \"Sahar\"\n",
        "print(a)\n",
        "print(b)\n",
        "print(a+b)\n"
      ],
      "metadata": {
        "colab": {
          "base_uri": "https://localhost:8080/"
        },
        "id": "TBneO76lh0u2",
        "outputId": "3339f366-6615-4885-ea18-89067bd3d60c"
      },
      "execution_count": 2,
      "outputs": [
        {
          "output_type": "stream",
          "name": "stdout",
          "text": [
            "Hi\n",
            "Sahar\n",
            "HiSahar\n"
          ]
        }
      ]
    },
    {
      "cell_type": "markdown",
      "source": [
        "Input and Output"
      ],
      "metadata": {
        "id": "zdVc_L7x94oS"
      }
    },
    {
      "cell_type": "code",
      "source": [
        "name = input(\"What is your name: \")\n",
        "age = input(\"What is your age: \")\n",
        "print(name,age)"
      ],
      "metadata": {
        "colab": {
          "base_uri": "https://localhost:8080/"
        },
        "id": "pv01S1KW-RU5",
        "outputId": "328c0f39-4f93-4e00-fd4c-5a3026e68bea"
      },
      "execution_count": 5,
      "outputs": [
        {
          "output_type": "stream",
          "name": "stdout",
          "text": [
            "What is your name: Micky\n",
            "What is your age: 18\n",
            "Micky 18\n"
          ]
        }
      ]
    },
    {
      "cell_type": "code",
      "source": [
        "name = input(\"Enter your name:\")\n",
        "print(\"Hello!\", name)"
      ],
      "metadata": {
        "colab": {
          "base_uri": "https://localhost:8080/"
        },
        "id": "ql3SxcN2_KOv",
        "outputId": "bee0d94d-69e2-4073-dea9-7b104b4109dc"
      },
      "execution_count": 7,
      "outputs": [
        {
          "output_type": "stream",
          "name": "stdout",
          "text": [
            "Enter your name:Sahar\n",
            "Hello! Sahar\n"
          ]
        }
      ]
    },
    {
      "cell_type": "markdown",
      "source": [
        " Typecasting"
      ],
      "metadata": {
        "id": "tqpXh4iO_kU6"
      }
    },
    {
      "cell_type": "code",
      "source": [
        "a =\"5\"\n",
        "b =int(a)\n",
        "print(b+2)\n"
      ],
      "metadata": {
        "colab": {
          "base_uri": "https://localhost:8080/"
        },
        "id": "PnJcRuEI_yGP",
        "outputId": "b39365de-2575-4d9c-a3ea-7f2c4ff4b14b"
      },
      "execution_count": 10,
      "outputs": [
        {
          "output_type": "stream",
          "name": "stdout",
          "text": [
            "7\n"
          ]
        }
      ]
    },
    {
      "cell_type": "markdown",
      "source": [
        "Operators in Python"
      ],
      "metadata": {
        "id": "ODb_qjKXAdew"
      }
    },
    {
      "cell_type": "code",
      "source": [
        "a =10\n",
        "b =15\n",
        "print(a+b)\n"
      ],
      "metadata": {
        "colab": {
          "base_uri": "https://localhost:8080/"
        },
        "id": "-q3ONDXqAfC8",
        "outputId": "c21215e9-bdf5-4979-b64f-8f343e47c3da"
      },
      "execution_count": 11,
      "outputs": [
        {
          "output_type": "stream",
          "name": "stdout",
          "text": [
            "25\n"
          ]
        }
      ]
    },
    {
      "cell_type": "code",
      "source": [
        "a = 10\n",
        "b = 20\n",
        "print(a-b)\n"
      ],
      "metadata": {
        "colab": {
          "base_uri": "https://localhost:8080/"
        },
        "id": "ro52HKUmAsh4",
        "outputId": "f581afa5-7360-40d1-ae8a-24e676fb56b7"
      },
      "execution_count": 12,
      "outputs": [
        {
          "output_type": "stream",
          "name": "stdout",
          "text": [
            "-10\n"
          ]
        }
      ]
    },
    {
      "cell_type": "code",
      "source": [
        "a=30\n",
        "b=15\n",
        "print(a*b)\n"
      ],
      "metadata": {
        "colab": {
          "base_uri": "https://localhost:8080/"
        },
        "id": "JddJurmjAzGD",
        "outputId": "c818ce9c-903b-4d73-ded5-b84caa66fa79"
      },
      "execution_count": 13,
      "outputs": [
        {
          "output_type": "stream",
          "name": "stdout",
          "text": [
            "450\n"
          ]
        }
      ]
    },
    {
      "cell_type": "code",
      "source": [
        "a=20\n",
        "b=5\n",
        "print(a/b)\n"
      ],
      "metadata": {
        "colab": {
          "base_uri": "https://localhost:8080/"
        },
        "id": "BSuegRo7A84j",
        "outputId": "10ccd122-ea9d-4c79-8cf0-d3c138f6fafb"
      },
      "execution_count": 14,
      "outputs": [
        {
          "output_type": "stream",
          "name": "stdout",
          "text": [
            "4.0\n"
          ]
        }
      ]
    },
    {
      "cell_type": "code",
      "source": [
        "a=20\n",
        "b=10\n",
        "print(a//b)\n"
      ],
      "metadata": {
        "colab": {
          "base_uri": "https://localhost:8080/"
        },
        "id": "G-1xerttBEw1",
        "outputId": "28c8a1a7-74f0-4d25-e374-f8d0cc7099b3"
      },
      "execution_count": 15,
      "outputs": [
        {
          "output_type": "stream",
          "name": "stdout",
          "text": [
            "2\n"
          ]
        }
      ]
    },
    {
      "cell_type": "code",
      "source": [
        "a=50\n",
        "b=3\n",
        "print(a%b)"
      ],
      "metadata": {
        "colab": {
          "base_uri": "https://localhost:8080/"
        },
        "id": "j9aFHTq_BMCU",
        "outputId": "d37f11c1-7863-4b86-c68b-d804a3924e70"
      },
      "execution_count": 19,
      "outputs": [
        {
          "output_type": "stream",
          "name": "stdout",
          "text": [
            "2\n"
          ]
        }
      ]
    },
    {
      "cell_type": "code",
      "source": [
        "a=80\n",
        "b=60\n",
        "print(a>b,b<a)"
      ],
      "metadata": {
        "colab": {
          "base_uri": "https://localhost:8080/"
        },
        "id": "f4mZKPU2BnuW",
        "outputId": "8f66185d-cbed-4a38-d02a-7f89c2cfb0a0"
      },
      "execution_count": 20,
      "outputs": [
        {
          "output_type": "stream",
          "name": "stdout",
          "text": [
            "True True\n"
          ]
        }
      ]
    },
    {
      "cell_type": "code",
      "source": [
        "a=100\n",
        "b=120\n",
        "print(a>b, b>a)"
      ],
      "metadata": {
        "colab": {
          "base_uri": "https://localhost:8080/"
        },
        "id": "y6lb2ByvByrk",
        "outputId": "77585217-60c3-4ca5-c468-15d1ec0696aa"
      },
      "execution_count": 21,
      "outputs": [
        {
          "output_type": "stream",
          "name": "stdout",
          "text": [
            "False True\n"
          ]
        }
      ]
    }
  ]
}