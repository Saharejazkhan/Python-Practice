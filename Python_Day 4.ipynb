{
  "nbformat": 4,
  "nbformat_minor": 0,
  "metadata": {
    "colab": {
      "provenance": []
    },
    "kernelspec": {
      "name": "python3",
      "display_name": "Python 3"
    },
    "language_info": {
      "name": "python"
    }
  },
  "cells": [
    {
      "cell_type": "markdown",
      "source": [
        "String Slicing"
      ],
      "metadata": {
        "id": "1IReone2EUwO"
      }
    },
    {
      "cell_type": "code",
      "source": [
        "a=\"Newyork\"\n",
        "print(a[0])"
      ],
      "metadata": {
        "colab": {
          "base_uri": "https://localhost:8080/"
        },
        "id": "PURcaGeeEeys",
        "outputId": "9920f70e-3e8b-429c-a5d8-12f95cc2097b"
      },
      "execution_count": 2,
      "outputs": [
        {
          "output_type": "stream",
          "name": "stdout",
          "text": [
            "N\n"
          ]
        }
      ]
    },
    {
      "cell_type": "code",
      "source": [
        "a=\"Newyork\"\n",
        "print(a[3], a[5])\n"
      ],
      "metadata": {
        "colab": {
          "base_uri": "https://localhost:8080/"
        },
        "id": "TXmaDKxcEagr",
        "outputId": "d04bdcbb-e72f-4a34-b4fb-8edaf223a30d"
      },
      "execution_count": 4,
      "outputs": [
        {
          "output_type": "stream",
          "name": "stdout",
          "text": [
            "y r\n"
          ]
        }
      ]
    },
    {
      "cell_type": "code",
      "source": [
        "a=\"Pakistan\"\n",
        "print(a[2:6])"
      ],
      "metadata": {
        "colab": {
          "base_uri": "https://localhost:8080/"
        },
        "id": "U4SVp1OXFQk4",
        "outputId": "d579beb9-93d0-443b-cb42-898af97961df"
      },
      "execution_count": 5,
      "outputs": [
        {
          "output_type": "stream",
          "name": "stdout",
          "text": [
            "kist\n"
          ]
        }
      ]
    },
    {
      "cell_type": "markdown",
      "source": [
        "# Omitting start or end"
      ],
      "metadata": {
        "id": "kiRCIfqqFsQV"
      }
    },
    {
      "cell_type": "code",
      "source": [
        "a=\"Jack and Jill\"\n",
        "print(a[:6])"
      ],
      "metadata": {
        "colab": {
          "base_uri": "https://localhost:8080/"
        },
        "id": "JvI8THKIFtX-",
        "outputId": "c89e0d97-d84a-40f0-b3f1-7d060ae7fa58"
      },
      "execution_count": 6,
      "outputs": [
        {
          "output_type": "stream",
          "name": "stdout",
          "text": [
            "Jack a\n"
          ]
        }
      ]
    },
    {
      "cell_type": "code",
      "source": [
        "a=\"Pakistan\"\n",
        "print(a[:3])"
      ],
      "metadata": {
        "colab": {
          "base_uri": "https://localhost:8080/"
        },
        "id": "4un1AZJgGSC8",
        "outputId": "f750d4f2-e511-4b23-91ea-6f67070ad38c"
      },
      "execution_count": 7,
      "outputs": [
        {
          "output_type": "stream",
          "name": "stdout",
          "text": [
            "Pak\n"
          ]
        }
      ]
    },
    {
      "cell_type": "code",
      "source": [
        "a=\"Pakistan\"\n",
        "print(a[7:])"
      ],
      "metadata": {
        "colab": {
          "base_uri": "https://localhost:8080/"
        },
        "id": "1V5olbHYGaEj",
        "outputId": "21025dbe-0766-4908-847e-5db92840cf0a"
      },
      "execution_count": 8,
      "outputs": [
        {
          "output_type": "stream",
          "name": "stdout",
          "text": [
            "n\n"
          ]
        }
      ]
    },
    {
      "cell_type": "code",
      "source": [
        "a=\"Sahar\"\n",
        "print(a[2:])"
      ],
      "metadata": {
        "colab": {
          "base_uri": "https://localhost:8080/"
        },
        "id": "RAj0J9zqG8aI",
        "outputId": "0dc0cfe8-6775-4a30-e8c0-791d9779d5a4"
      },
      "execution_count": 9,
      "outputs": [
        {
          "output_type": "stream",
          "name": "stdout",
          "text": [
            "har\n"
          ]
        }
      ]
    },
    {
      "cell_type": "code",
      "source": [
        "a=\"Sahar\"\n",
        "print(a[1:])\n",
        "print(a[0:])\n"
      ],
      "metadata": {
        "colab": {
          "base_uri": "https://localhost:8080/"
        },
        "id": "k-WZ4rq9HJm9",
        "outputId": "50a15eca-5738-4909-d1a9-587e9b1b4336"
      },
      "execution_count": 11,
      "outputs": [
        {
          "output_type": "stream",
          "name": "stdout",
          "text": [
            "ahar\n",
            "Sahar\n"
          ]
        }
      ]
    },
    {
      "cell_type": "markdown",
      "source": [
        "# Using step\n"
      ],
      "metadata": {
        "id": "PR9LB2bmHizv"
      }
    },
    {
      "cell_type": "code",
      "source": [
        "a=\"Pineapple\"\n",
        "print(a[1:4:2])"
      ],
      "metadata": {
        "colab": {
          "base_uri": "https://localhost:8080/"
        },
        "id": "12GdbCoFHlpO",
        "outputId": "4dd9627e-5bcb-419a-da0d-8346b3d6269f"
      },
      "execution_count": 13,
      "outputs": [
        {
          "output_type": "stream",
          "name": "stdout",
          "text": [
            "ie\n"
          ]
        }
      ]
    },
    {
      "cell_type": "code",
      "source": [
        "a=\"Pineapple\"\n",
        "print(a[::2])"
      ],
      "metadata": {
        "colab": {
          "base_uri": "https://localhost:8080/"
        },
        "id": "jXzAYQomIgrk",
        "outputId": "2e77eda8-9e65-428d-ce0f-6811bda288e0"
      },
      "execution_count": 14,
      "outputs": [
        {
          "output_type": "stream",
          "name": "stdout",
          "text": [
            "Pnape\n"
          ]
        }
      ]
    },
    {
      "cell_type": "markdown",
      "source": [
        "Reversing the string"
      ],
      "metadata": {
        "id": "emtwy51kIwRh"
      }
    },
    {
      "cell_type": "markdown",
      "source": [],
      "metadata": {
        "id": "nrqak3B2IwPc"
      }
    },
    {
      "cell_type": "code",
      "source": [
        "a=\"pineapple\"\n",
        "print(a[::-1])\n"
      ],
      "metadata": {
        "colab": {
          "base_uri": "https://localhost:8080/"
        },
        "id": "kYZ8QDWCIxxH",
        "outputId": "6072fc3e-dbb3-4c98-941a-bf6c01643c90"
      },
      "execution_count": 16,
      "outputs": [
        {
          "output_type": "stream",
          "name": "stdout",
          "text": [
            "elppaenip\n"
          ]
        }
      ]
    },
    {
      "cell_type": "code",
      "source": [
        "a=\"pineapple\"\n",
        "print(a[::-2])"
      ],
      "metadata": {
        "colab": {
          "base_uri": "https://localhost:8080/"
        },
        "id": "pQDhtpr_JGII",
        "outputId": "b0f5c516-11c5-4923-9133-165483ce98d5"
      },
      "execution_count": 17,
      "outputs": [
        {
          "output_type": "stream",
          "name": "stdout",
          "text": [
            "epanp\n"
          ]
        }
      ]
    },
    {
      "cell_type": "code",
      "source": [
        "a=\"pineapple\"\n",
        "print(a[::5])"
      ],
      "metadata": {
        "colab": {
          "base_uri": "https://localhost:8080/"
        },
        "id": "u9c0q5rJJWry",
        "outputId": "d429df34-2e96-4fcc-c669-4c882839e0ea"
      },
      "execution_count": 23,
      "outputs": [
        {
          "output_type": "stream",
          "name": "stdout",
          "text": [
            "pp\n"
          ]
        }
      ]
    },
    {
      "cell_type": "markdown",
      "source": [
        "For Loop\n"
      ],
      "metadata": {
        "id": "DdEYsSjpKHF0"
      }
    },
    {
      "cell_type": "code",
      "source": [
        "# Loop from 0 to 4 (range(5) generates numbers 0 to 4)\n",
        "for i in range(5):\n",
        "    # Print the current value of i\n",
        "    print(i)"
      ],
      "metadata": {
        "colab": {
          "base_uri": "https://localhost:8080/"
        },
        "id": "Gwgt03rUKJae",
        "outputId": "33434164-13d5-4490-bc3f-a0a7e5c59827"
      },
      "execution_count": 24,
      "outputs": [
        {
          "output_type": "stream",
          "name": "stdout",
          "text": [
            "0\n",
            "1\n",
            "2\n",
            "3\n",
            "4\n"
          ]
        }
      ]
    },
    {
      "cell_type": "code",
      "source": [
        "# Loop from 0 to 27 (range(28) generates numbers 0 to 27)\n",
        "for i in range(28):\n",
        "    # Print the current value of i\n",
        "    print(i)"
      ],
      "metadata": {
        "colab": {
          "base_uri": "https://localhost:8080/"
        },
        "id": "3VHoO30vK4q1",
        "outputId": "9d29243c-dbe2-4f5c-e178-975eb2cbdad6"
      },
      "execution_count": 25,
      "outputs": [
        {
          "output_type": "stream",
          "name": "stdout",
          "text": [
            "0\n",
            "1\n",
            "2\n",
            "3\n",
            "4\n",
            "5\n",
            "6\n",
            "7\n",
            "8\n",
            "9\n",
            "10\n",
            "11\n",
            "12\n",
            "13\n",
            "14\n",
            "15\n",
            "16\n",
            "17\n",
            "18\n",
            "19\n",
            "20\n",
            "21\n",
            "22\n",
            "23\n",
            "24\n",
            "25\n",
            "26\n",
            "27\n"
          ]
        }
      ]
    },
    {
      "cell_type": "code",
      "source": [
        "# Loop through a string\n",
        "for char in \"Sahar\":\n",
        "  # print all character\n",
        "    print(char)"
      ],
      "metadata": {
        "colab": {
          "base_uri": "https://localhost:8080/"
        },
        "id": "18Q0JkclLJj1",
        "outputId": "2b21edd7-b63a-44ea-ac30-cd107d07b5b2"
      },
      "execution_count": 26,
      "outputs": [
        {
          "output_type": "stream",
          "name": "stdout",
          "text": [
            "S\n",
            "a\n",
            "h\n",
            "a\n",
            "r\n"
          ]
        }
      ]
    },
    {
      "cell_type": "code",
      "source": [
        "\n",
        "# Loop through each character in the string \"Sahar Ejaz\"\n",
        "for i in \"Sahar Ejaz\":\n",
        "    # If the current character is 'a'\n",
        "    if i == 'a':\n",
        "        # Print the character (which is 'a')\n",
        "        print(i)"
      ],
      "metadata": {
        "colab": {
          "base_uri": "https://localhost:8080/"
        },
        "id": "rI5AVYJFLZf5",
        "outputId": "cc7af46b-4463-479b-9241-10d959c8270e"
      },
      "execution_count": 27,
      "outputs": [
        {
          "output_type": "stream",
          "name": "stdout",
          "text": [
            "a\n",
            "a\n",
            "a\n"
          ]
        }
      ]
    },
    {
      "cell_type": "code",
      "source": [
        "\n",
        "# Loop through each character in the string \"UnitedStatesofAmerica\"\n",
        "for i in \"UnitedStatesofAmerica\":\n",
        "    # If the current character is 'a'\n",
        "    if i == 'a':\n",
        "        # Print the character (which is 'a')\n",
        "        print(i)"
      ],
      "metadata": {
        "colab": {
          "base_uri": "https://localhost:8080/"
        },
        "id": "wWZ_lHnyLr-C",
        "outputId": "887e337f-6efa-4d24-ffde-f22e3d0b6425"
      },
      "execution_count": 28,
      "outputs": [
        {
          "output_type": "stream",
          "name": "stdout",
          "text": [
            "a\n",
            "a\n"
          ]
        }
      ]
    },
    {
      "cell_type": "code",
      "source": [
        "\n",
        "# Loop through each character in the string \"UnitedStatesofAmerica\"\n",
        "for i in \"UnitedStatesofAmerica\":\n",
        "    # If the current character is 'A'\n",
        "    if i == 'A':\n",
        "        # Print the character (which is 'A')\n",
        "        print(i)"
      ],
      "metadata": {
        "colab": {
          "base_uri": "https://localhost:8080/"
        },
        "id": "tPWZLpUCMA27",
        "outputId": "9651435c-28e0-4323-da7c-a1509f880c3b"
      },
      "execution_count": 30,
      "outputs": [
        {
          "output_type": "stream",
          "name": "stdout",
          "text": [
            "A\n"
          ]
        }
      ]
    },
    {
      "cell_type": "code",
      "source": [
        "\n",
        "# Loop through each character in the string \"UnitedStatesofAmerica\"\n",
        "for i in \"UnitedStatesofAmerica\":\n",
        "    # If the current character is 'e'\n",
        "    if i == 'e':\n",
        "        # Print the character (which is 'e')\n",
        "        print(i)"
      ],
      "metadata": {
        "colab": {
          "base_uri": "https://localhost:8080/"
        },
        "id": "H2wGW8mBMHiF",
        "outputId": "b8487de5-1d7a-4204-c90c-8efbd2523a43"
      },
      "execution_count": 31,
      "outputs": [
        {
          "output_type": "stream",
          "name": "stdout",
          "text": [
            "e\n",
            "e\n",
            "e\n"
          ]
        }
      ]
    },
    {
      "cell_type": "code",
      "source": [
        "for x in \"classroom\":\n",
        "  if x == \"o\":\n",
        "    print(x)"
      ],
      "metadata": {
        "colab": {
          "base_uri": "https://localhost:8080/"
        },
        "id": "VFxb_n_IMRg7",
        "outputId": "fb96a2f5-854a-4d16-f294-2d27ca8fea9b"
      },
      "execution_count": 32,
      "outputs": [
        {
          "output_type": "stream",
          "name": "stdout",
          "text": [
            "o\n",
            "o\n"
          ]
        }
      ]
    },
    {
      "cell_type": "markdown",
      "source": [
        "While Loop"
      ],
      "metadata": {
        "id": "OlhR2D48MmEy"
      }
    },
    {
      "cell_type": "code",
      "source": [
        "\n",
        "# Initialize variable i with the value 1\n",
        "i = 1\n",
        "\n",
        "# Run the loop as long as i is less than or equal to 5\n",
        "while i <= 5:\n",
        "    # Print the current value of i\n",
        "    print(i)\n",
        "\n",
        "    # Increase the value of i by 1 after each iteration\n",
        "    i += 1"
      ],
      "metadata": {
        "colab": {
          "base_uri": "https://localhost:8080/"
        },
        "id": "-T8em9fsMnVw",
        "outputId": "5ef18eba-9009-43d8-ca39-8599fdb28e6d"
      },
      "execution_count": 33,
      "outputs": [
        {
          "output_type": "stream",
          "name": "stdout",
          "text": [
            "1\n",
            "2\n",
            "3\n",
            "4\n",
            "5\n"
          ]
        }
      ]
    },
    {
      "cell_type": "code",
      "source": [
        "# Initialize variable i with the value 1\n",
        "i = 1\n",
        "\n",
        "# Run the loop as long as i is less than or equal to 5\n",
        "while i <= 20:\n",
        "    # Print the current value of i\n",
        "    print(i)\n",
        "\n",
        "    # Increase the value of i by 1 after each iteration\n",
        "    i += 2"
      ],
      "metadata": {
        "colab": {
          "base_uri": "https://localhost:8080/"
        },
        "id": "mHRLMW3gM3Sa",
        "outputId": "ebca1191-bd80-4230-ad36-417c41f1fdf5"
      },
      "execution_count": 34,
      "outputs": [
        {
          "output_type": "stream",
          "name": "stdout",
          "text": [
            "1\n",
            "3\n",
            "5\n",
            "7\n",
            "9\n",
            "11\n",
            "13\n",
            "15\n",
            "17\n",
            "19\n"
          ]
        }
      ]
    },
    {
      "cell_type": "markdown",
      "source": [
        "Break Statement"
      ],
      "metadata": {
        "id": "mtpt5HE6NaGj"
      }
    },
    {
      "cell_type": "code",
      "source": [
        "# Loop through numbers from 0 to 9\n",
        "for i in range(10):\n",
        "    # If the current number is 5, exit the loop completely\n",
        "    if i == 5:\n",
        "        break  # Terminates the loop when i equals 5\n",
        "    # Print the current number\n",
        "    print(i)"
      ],
      "metadata": {
        "colab": {
          "base_uri": "https://localhost:8080/"
        },
        "id": "gIrHzMm2NULV",
        "outputId": "3a0712cc-0888-49c1-e68c-a066b9dda1bf"
      },
      "execution_count": 35,
      "outputs": [
        {
          "output_type": "stream",
          "name": "stdout",
          "text": [
            "0\n",
            "1\n",
            "2\n",
            "3\n",
            "4\n"
          ]
        }
      ]
    },
    {
      "cell_type": "code",
      "source": [
        "# Loop through numbers from 0 to 18\n",
        "for i in range(20):\n",
        "    # If the current number is 5, exit the loop completely\n",
        "    if i == 18:\n",
        "        break  # Terminates the loop when i equals 5\n",
        "    # Print the current number\n",
        "    print(i)\n"
      ],
      "metadata": {
        "colab": {
          "base_uri": "https://localhost:8080/"
        },
        "id": "kbl_3z1gNkiu",
        "outputId": "31f69043-6ee1-4190-cd76-ed2941bbd1c6"
      },
      "execution_count": 42,
      "outputs": [
        {
          "output_type": "stream",
          "name": "stdout",
          "text": [
            "0\n",
            "1\n",
            "2\n",
            "3\n",
            "4\n",
            "5\n",
            "6\n",
            "7\n",
            "8\n",
            "9\n",
            "10\n",
            "11\n",
            "12\n",
            "13\n",
            "14\n",
            "15\n",
            "16\n",
            "17\n"
          ]
        }
      ]
    },
    {
      "cell_type": "markdown",
      "source": [
        "Continue Statement"
      ],
      "metadata": {
        "id": "6cx569mBOKPH"
      }
    },
    {
      "cell_type": "code",
      "source": [
        "# Loop through numbers from 0 to 9\n",
        "for i in range(10):\n",
        "    # If the current number is 5, skip this iteration\n",
        "    if i == 5:\n",
        "        continue  # Skip printing and go to the next number\n",
        "    # Print the current number\n",
        "    print(i)\n"
      ],
      "metadata": {
        "colab": {
          "base_uri": "https://localhost:8080/"
        },
        "id": "D57A7qGFOM-H",
        "outputId": "410ca74d-a3a2-4006-9f2f-b5eb431ed6fe"
      },
      "execution_count": 43,
      "outputs": [
        {
          "output_type": "stream",
          "name": "stdout",
          "text": [
            "0\n",
            "1\n",
            "2\n",
            "3\n",
            "4\n",
            "6\n",
            "7\n",
            "8\n",
            "9\n"
          ]
        }
      ]
    },
    {
      "cell_type": "code",
      "source": [
        "# Loop through numbers from 0 to 15\n",
        "for i in range(15):\n",
        "    # If the current number is 5, skip this iteration\n",
        "    if i == 12:\n",
        "        continue  # Skip printing and go to the next number\n",
        "    # Print the current number\n",
        "    print(i)\n"
      ],
      "metadata": {
        "colab": {
          "base_uri": "https://localhost:8080/"
        },
        "id": "6yT2uuBdOTWi",
        "outputId": "f975b154-68d2-4a24-cb6f-dac271a16099"
      },
      "execution_count": 44,
      "outputs": [
        {
          "output_type": "stream",
          "name": "stdout",
          "text": [
            "0\n",
            "1\n",
            "2\n",
            "3\n",
            "4\n",
            "5\n",
            "6\n",
            "7\n",
            "8\n",
            "9\n",
            "10\n",
            "11\n",
            "13\n",
            "14\n"
          ]
        }
      ]
    },
    {
      "cell_type": "markdown",
      "source": [
        "Pass Statement\n"
      ],
      "metadata": {
        "id": "5PWFImiIOa4s"
      }
    },
    {
      "cell_type": "code",
      "source": [
        "# Loop through numbers from 0 to 9\n",
        "for i in range(10):\n",
        "    # If the number is 5, do nothing and continue\n",
        "    if i == 5:\n",
        "        pass  # 'pass' is a placeholder that does nothing\n",
        "    # Print the current number\n",
        "    print(i)"
      ],
      "metadata": {
        "colab": {
          "base_uri": "https://localhost:8080/"
        },
        "id": "SIuYFlehOfEc",
        "outputId": "9b8855a8-c18c-43f4-a4ad-760d57717839"
      },
      "execution_count": 45,
      "outputs": [
        {
          "output_type": "stream",
          "name": "stdout",
          "text": [
            "0\n",
            "1\n",
            "2\n",
            "3\n",
            "4\n",
            "5\n",
            "6\n",
            "7\n",
            "8\n",
            "9\n"
          ]
        }
      ]
    }
  ]
}