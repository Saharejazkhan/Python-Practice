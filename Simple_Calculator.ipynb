{
  "nbformat": 4,
  "nbformat_minor": 0,
  "metadata": {
    "colab": {
      "provenance": []
    },
    "kernelspec": {
      "name": "python3",
      "display_name": "Python 3"
    },
    "language_info": {
      "name": "python"
    }
  },
  "cells": [
    {
      "cell_type": "markdown",
      "source": [
        "Simple Calculator"
      ],
      "metadata": {
        "id": "1GjQ622NFaEo"
      }
    },
    {
      "cell_type": "markdown",
      "source": [
        "Ask the user for input"
      ],
      "metadata": {
        "id": "WkyHul8pFn7C"
      }
    },
    {
      "cell_type": "code",
      "source": [
        "num1 =float(input(\"Enter the first number: \"))\n",
        "num2 =float(input(\"Enter the second number: \"))\n"
      ],
      "metadata": {
        "id": "wTMajQ6aFss_",
        "colab": {
          "base_uri": "https://localhost:8080/"
        },
        "outputId": "6b691e20-b35c-4f03-ca35-8de327fcf1bf"
      },
      "execution_count": 22,
      "outputs": [
        {
          "name": "stdout",
          "output_type": "stream",
          "text": [
            "Enter the first number: 20\n",
            "Enter the second number: 0\n"
          ]
        }
      ]
    },
    {
      "cell_type": "markdown",
      "source": [
        "# Ask the user for an operation\n"
      ],
      "metadata": {
        "id": "qcccnvbsGDEV"
      }
    },
    {
      "cell_type": "code",
      "source": [
        "operation =input(\"Enter the operation (+,-,*,/,): \")\n"
      ],
      "metadata": {
        "id": "AiD-HwrxGJ5N",
        "colab": {
          "base_uri": "https://localhost:8080/"
        },
        "outputId": "e45339cb-96f1-4580-f553-7dcb933c3e48"
      },
      "execution_count": 23,
      "outputs": [
        {
          "name": "stdout",
          "output_type": "stream",
          "text": [
            "Enter the operation (+,-,*,/,): /\n"
          ]
        }
      ]
    },
    {
      "cell_type": "markdown",
      "source": [
        "# Perform calculation based on the operation"
      ],
      "metadata": {
        "id": "sstshI9lHOx6"
      }
    },
    {
      "cell_type": "code",
      "source": [
        "if operation== '+':\n",
        "    result = num1 + num2\n",
        "    print(\"Result: \" , result)\n",
        "elif operation == '-':\n",
        "    result = num1 - num2\n",
        "    print(\"Result:\", result)\n",
        "elif operation == '*':\n",
        "    result = num1 * num2\n",
        "    print(\"Result:\", result)\n",
        "elif operation == '/':\n",
        "    if num2 != 0:\n",
        "        result = num1 / num2\n",
        "        print(\"Result:\", result)\n",
        "    else:\n",
        "        print(\"Error: Cannot divide by zero.\")"
      ],
      "metadata": {
        "colab": {
          "base_uri": "https://localhost:8080/"
        },
        "id": "b9klySv4HzGz",
        "outputId": "1e89ca6e-fbd0-435d-ba27-41d2ee56c924"
      },
      "execution_count": 24,
      "outputs": [
        {
          "output_type": "stream",
          "name": "stdout",
          "text": [
            "Error: Cannot divide by zero.\n"
          ]
        }
      ]
    }
  ]
}