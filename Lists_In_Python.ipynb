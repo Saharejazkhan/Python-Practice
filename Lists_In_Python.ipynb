{
  "nbformat": 4,
  "nbformat_minor": 0,
  "metadata": {
    "colab": {
      "provenance": []
    },
    "kernelspec": {
      "name": "python3",
      "display_name": "Python 3"
    },
    "language_info": {
      "name": "python"
    }
  },
  "cells": [
    {
      "cell_type": "markdown",
      "source": [
        "**Lists In Python**"
      ],
      "metadata": {
        "id": "7h_3UpmNF0Pv"
      }
    },
    {
      "cell_type": "code",
      "execution_count": 5,
      "metadata": {
        "id": "JcPNQ3dSBfCI"
      },
      "outputs": [],
      "source": [
        "# You can store integers, strings, floats, booleans, or even other lists.\n",
        "\n",
        "empty_list = []\n",
        "numbers = [1, 2, 3, 4, 5, 6, 7]\n",
        "mixed_list = [\"Pakistan\", 2.14, True, 77]\n",
        "nested_list = [[27, 87], [6, 9]]\n"
      ]
    },
    {
      "cell_type": "markdown",
      "source": [
        "Accessing List Elements\n"
      ],
      "metadata": {
        "id": "3s1FQC9UHRwx"
      }
    },
    {
      "cell_type": "code",
      "source": [
        "my_fruitlist = [\"pineapple\", \"mango\", \"peach\", \"cherry\"]\n",
        "print (my_fruitlist [0])\n",
        "print(my_fruitlist[-1])"
      ],
      "metadata": {
        "colab": {
          "base_uri": "https://localhost:8080/"
        },
        "id": "FoQl8D3nHRDF",
        "outputId": "b255cf73-e0f6-408d-905c-eb4ed1b039e9"
      },
      "execution_count": 4,
      "outputs": [
        {
          "output_type": "stream",
          "name": "stdout",
          "text": [
            "pineapple\n",
            "cherry\n"
          ]
        }
      ]
    },
    {
      "cell_type": "code",
      "source": [
        "# reverse a list using slicing\n",
        "\n",
        "my_list = [77, 87, 90, 4]\n",
        "print (my_list [2])\n",
        "print(my_list [::-1])"
      ],
      "metadata": {
        "colab": {
          "base_uri": "https://localhost:8080/"
        },
        "id": "mAao3Y5nVdoL",
        "outputId": "3009da59-c0a1-4f9a-ec36-fb840c62a26a"
      },
      "execution_count": 6,
      "outputs": [
        {
          "output_type": "stream",
          "name": "stdout",
          "text": [
            "90\n",
            "[4, 90, 87, 77]\n"
          ]
        }
      ]
    },
    {
      "cell_type": "markdown",
      "source": [
        "Modifying Lists"
      ],
      "metadata": {
        "id": "WYpFLk2op8CY"
      }
    },
    {
      "cell_type": "code",
      "source": [
        "# Replacing the value on 1st index\n",
        "\n",
        "my_list[1] = \"z\"\n",
        "print(my_list)"
      ],
      "metadata": {
        "colab": {
          "base_uri": "https://localhost:8080/"
        },
        "id": "rF61VL2MrQMc",
        "outputId": "f8d7c0dc-75fe-4b56-bb6b-e78c4710bcf1"
      },
      "execution_count": 10,
      "outputs": [
        {
          "output_type": "stream",
          "name": "stdout",
          "text": [
            "[77, 'z', 90, 4]\n"
          ]
        }
      ]
    }
  ]
}