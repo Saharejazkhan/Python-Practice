{
  "nbformat": 4,
  "nbformat_minor": 0,
  "metadata": {
    "colab": {
      "provenance": []
    },
    "kernelspec": {
      "name": "python3",
      "display_name": "Python 3"
    },
    "language_info": {
      "name": "python"
    }
  },
  "cells": [
    {
      "cell_type": "code",
      "execution_count": null,
      "metadata": {
        "id": "RWffv6RG3zg4"
      },
      "outputs": [],
      "source": [
        "Create a list with 5 favorite movies. Add one, remove one, and sort the list."
      ]
    },
    {
      "cell_type": "code",
      "source": [
        "# List of 5 favourite movies.\n",
        "\n",
        "movies = [\"Meet Joe Black\", \"City of Angles\", \"Top Gun\", \"Leap Year\", \"My Best Friends Wedding\"]\n",
        "print(movies)"
      ],
      "metadata": {
        "colab": {
          "base_uri": "https://localhost:8080/"
        },
        "id": "_02mecO831n6",
        "outputId": "be9988fe-0bc6-419b-83ed-60505272235e"
      },
      "execution_count": 27,
      "outputs": [
        {
          "output_type": "stream",
          "name": "stdout",
          "text": [
            "['Meet Joe Black', 'City of Angles', 'Top Gun', 'Leap Year', 'My Best Friends Wedding']\n"
          ]
        }
      ]
    },
    {
      "cell_type": "code",
      "source": [
        "# Add one movie\n",
        "\n",
        "movies.append(\"Made of Honor\")\n",
        "print(movies)"
      ],
      "metadata": {
        "colab": {
          "base_uri": "https://localhost:8080/"
        },
        "id": "s6whb4HV4fXK",
        "outputId": "f5d67a57-ba06-4754-daa4-d8a31be8910f"
      },
      "execution_count": 28,
      "outputs": [
        {
          "output_type": "stream",
          "name": "stdout",
          "text": [
            "['Meet Joe Black', 'City of Angles', 'Top Gun', 'Leap Year', 'My Best Friends Wedding', 'Made of Honor']\n"
          ]
        }
      ]
    },
    {
      "cell_type": "code",
      "source": [
        "# remove one\n",
        "movies.remove(\"Leap Year\")\n",
        "print(movies)\n"
      ],
      "metadata": {
        "colab": {
          "base_uri": "https://localhost:8080/"
        },
        "id": "RfZ9dsir4y9e",
        "outputId": "e42d7876-731a-4270-e694-8894abfcd954"
      },
      "execution_count": 29,
      "outputs": [
        {
          "output_type": "stream",
          "name": "stdout",
          "text": [
            "['Meet Joe Black', 'City of Angles', 'Top Gun', 'My Best Friends Wedding', 'Made of Honor']\n"
          ]
        }
      ]
    },
    {
      "cell_type": "code",
      "source": [
        "# sort movie list by alphabetic order\n",
        "\n",
        "movies.sort()\n",
        "print(movies)"
      ],
      "metadata": {
        "colab": {
          "base_uri": "https://localhost:8080/"
        },
        "id": "MstnHw706TNO",
        "outputId": "3563afcc-9697-41e6-c70e-73c43df60da3"
      },
      "execution_count": 31,
      "outputs": [
        {
          "output_type": "stream",
          "name": "stdout",
          "text": [
            "['City of Angles', 'Made of Honor', 'Meet Joe Black', 'My Best Friends Wedding', 'Top Gun']\n"
          ]
        }
      ]
    },
    {
      "cell_type": "markdown",
      "source": [],
      "metadata": {
        "id": "g9iCMR-_6sE6"
      }
    }
  ]
}