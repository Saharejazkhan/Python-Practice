{
  "nbformat": 4,
  "nbformat_minor": 0,
  "metadata": {
    "colab": {
      "provenance": []
    },
    "kernelspec": {
      "name": "python3",
      "display_name": "Python 3"
    },
    "language_info": {
      "name": "python"
    }
  },
  "cells": [
    {
      "cell_type": "code",
      "execution_count": 6,
      "metadata": {
        "colab": {
          "base_uri": "https://localhost:8080/"
        },
        "id": "AoYP9XqxXkcE",
        "outputId": "11f49bbe-f232-4423-dd6e-111009072573"
      },
      "outputs": [
        {
          "output_type": "stream",
          "name": "stdout",
          "text": [
            "Input: {([()])}\n",
            "Result: Match\n",
            "\n",
            "Testing different cases:\n",
            "())      -> Mismatch\n",
            "(((      -> Mismatch\n",
            "([)]     -> Mismatch\n",
            "()       -> Match\n",
            "{[()]}   -> Match\n"
          ]
        }
      ],
      "source": [
        "# Bracket Checker\n",
        "\n",
        "def check_brackets(brackets):\n",
        "    box = []  # Our storage box\n",
        "    pairs = {'(': ')', '[': ']', '{': '}'}  # What matches what\n",
        "\n",
        "    for bracket in brackets:\n",
        "        if bracket in '([{':           # Opening bracket\n",
        "            box.append(bracket)\n",
        "        elif bracket in ')]}':         # Closing bracket\n",
        "            if not box or pairs[box.pop()] != bracket:\n",
        "                return \"Mismatch\"\n",
        "\n",
        "    return \"Match\" if not box else \"Mismatch\"\n",
        "\n",
        "# Test - Let's see what's happening step by step\n",
        "list_brackets = list(\"{([()])}\")\n",
        "print(f\"Input: {''.join(list_brackets)}\")\n",
        "print(f\"Result: {check_brackets(list_brackets)}\")\n",
        "\n",
        "# Let's test some clear mismatch cases\n",
        "print(\"\\nTesting different cases:\")\n",
        "test_cases = [\n",
        "    \"())\",      # Extra closing\n",
        "    \"(((\",      # Extra opening\n",
        "    \"([)]\",     # Wrong order\n",
        "    \"()\",       # Perfect match\n",
        "    \"{[()]}\",   # Perfect nested\n",
        "]\n",
        "\n",
        "for test in test_cases:\n",
        "    result = check_brackets(list(test))\n",
        "    print(f\"{test:8} -> {result}\")"
      ]
    }
  ]
}