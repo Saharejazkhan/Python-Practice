{
  "nbformat": 4,
  "nbformat_minor": 0,
  "metadata": {
    "colab": {
      "provenance": []
    },
    "kernelspec": {
      "name": "python3",
      "display_name": "Python 3"
    },
    "language_info": {
      "name": "python"
    }
  },
  "cells": [
    {
      "cell_type": "markdown",
      "source": [
        "Traffic Light Simulato"
      ],
      "metadata": {
        "id": "14fd1HpkCa03"
      }
    },
    {
      "cell_type": "code",
      "source": [
        "color =(input(\"Enter the color: \"))\n",
        "if color == \"red\":\n",
        "  print(\"Stop!\")\n",
        "elif color == \"yellow\":\n",
        "   print(\"Get Ready\")\n",
        "elif color == \"green\":\n",
        "   print(\"GO\")\n",
        "else:\n",
        "   print(\"Invalid Color\")"
      ],
      "metadata": {
        "colab": {
          "base_uri": "https://localhost:8080/"
        },
        "id": "qDiJhgszCd7R",
        "outputId": "012e7faa-9b25-4bbf-d924-ae10afe84162"
      },
      "execution_count": 5,
      "outputs": [
        {
          "output_type": "stream",
          "name": "stdout",
          "text": [
            "Enter the color: red\n",
            "Stop!\n"
          ]
        }
      ]
    },
    {
      "cell_type": "code",
      "source": [
        "color =(input(\"Enter the color: \"))\n",
        "if color == \"red\":\n",
        "  print(\"Stop!\")\n",
        "elif color == \"yellow\":\n",
        "   print(\"Get Ready\")\n",
        "elif color == \"green\":\n",
        "   print(\"GO\")\n",
        "else:\n",
        "   print(\"Invalid Color\")"
      ],
      "metadata": {
        "colab": {
          "base_uri": "https://localhost:8080/"
        },
        "id": "a0_Yj1b9E_ra",
        "outputId": "38e9c147-60fc-4075-f3c1-00eb1d744ca1"
      },
      "execution_count": 6,
      "outputs": [
        {
          "output_type": "stream",
          "name": "stdout",
          "text": [
            "Enter the color: yellow\n",
            "Get Ready\n"
          ]
        }
      ]
    },
    {
      "cell_type": "code",
      "source": [
        "color =(input(\"Enter the color: \"))\n",
        "if color == \"red\":\n",
        "  print(\"Stop!\")\n",
        "elif color == \"yellow\":\n",
        "   print(\"Get Ready\")\n",
        "elif color == \"green\":\n",
        "   print(\"GO\")\n",
        "else:\n",
        "   print(\"Invalid Color\")"
      ],
      "metadata": {
        "id": "2E_3d9L8FBuS",
        "outputId": "ffafb023-1f2e-47f1-e4ab-4d1f2ec8fad3",
        "colab": {
          "base_uri": "https://localhost:8080/"
        }
      },
      "execution_count": 7,
      "outputs": [
        {
          "output_type": "stream",
          "name": "stdout",
          "text": [
            "Enter the color: green\n",
            "GO\n"
          ]
        }
      ]
    },
    {
      "cell_type": "code",
      "source": [
        "color =(input(\"Enter the color: \"))\n",
        "if color == \"red\":\n",
        "  print(\"Stop!\")\n",
        "elif color == \"yellow\":\n",
        "   print(\"Get Ready\")\n",
        "elif color == \"green\":\n",
        "   print(\"GO\")\n",
        "else:\n",
        "   print(\"Invalid Color\")"
      ],
      "metadata": {
        "id": "pavGNSXJFDuV",
        "outputId": "e81c62b9-e41e-42cc-d749-0609fc5be444",
        "colab": {
          "base_uri": "https://localhost:8080/"
        }
      },
      "execution_count": 8,
      "outputs": [
        {
          "output_type": "stream",
          "name": "stdout",
          "text": [
            "Enter the color: purple\n",
            "Invalid Color\n"
          ]
        }
      ]
    }
  ]
}