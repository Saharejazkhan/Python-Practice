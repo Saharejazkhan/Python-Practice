{
  "nbformat": 4,
  "nbformat_minor": 0,
  "metadata": {
    "colab": {
      "provenance": []
    },
    "kernelspec": {
      "name": "python3",
      "display_name": "Python 3"
    },
    "language_info": {
      "name": "python"
    }
  },
  "cells": [
    {
      "cell_type": "markdown",
      "source": [
        " Even or Odd Checker\n",
        ""
      ],
      "metadata": {
        "id": "I-U3GjhwtvNY"
      }
    },
    {
      "cell_type": "code",
      "source": [
        "number =int(input(\"Enter the number: \"))\n",
        "if number % 2 == 0:\n",
        "   print(\"This is even number.\")\n",
        "else:\n",
        "   print(\"Thhis is odd numder.\")"
      ],
      "metadata": {
        "colab": {
          "base_uri": "https://localhost:8080/"
        },
        "id": "V6L2PEPVvHVx",
        "outputId": "f0814b38-104b-4050-ec9b-42baf0a76f46"
      },
      "execution_count": 3,
      "outputs": [
        {
          "output_type": "stream",
          "name": "stdout",
          "text": [
            "Enter the number: 7\n",
            "Thhis is odd numder.\n"
          ]
        }
      ]
    },
    {
      "cell_type": "code",
      "source": [
        "number =int(input(\"Enter the number: \"))\n",
        "if number % 2 == 0:\n",
        "   print(\"This is even number.\")\n",
        "else:\n",
        "   print(\"Thhis is odd numder.\")"
      ],
      "metadata": {
        "colab": {
          "base_uri": "https://localhost:8080/"
        },
        "id": "4YIUhFuvvnY9",
        "outputId": "e6ee16b4-14fb-4933-ddcd-d2353d3d7c1f"
      },
      "execution_count": 4,
      "outputs": [
        {
          "output_type": "stream",
          "name": "stdout",
          "text": [
            "Enter the number: 6\n",
            "This is even number.\n"
          ]
        }
      ]
    }
  ]
}