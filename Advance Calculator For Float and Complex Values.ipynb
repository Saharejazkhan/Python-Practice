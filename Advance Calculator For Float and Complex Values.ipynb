{
  "nbformat": 4,
  "nbformat_minor": 0,
  "metadata": {
    "colab": {
      "provenance": []
    },
    "kernelspec": {
      "name": "python3",
      "display_name": "Python 3"
    },
    "language_info": {
      "name": "python"
    }
  },
  "cells": [
    {
      "cell_type": "markdown",
      "source": [
        "# Advance Calculator For Float and Complex Values"
      ],
      "metadata": {
        "id": "uCSRfj2IVxcz"
      }
    },
    {
      "cell_type": "code",
      "execution_count": 15,
      "metadata": {
        "colab": {
          "base_uri": "https://localhost:8080/"
        },
        "id": "pPmHXVzp9E7h",
        "outputId": "43d848bb-091e-4d54-936f-ed21beeca867"
      },
      "outputs": [
        {
          "output_type": "stream",
          "name": "stdout",
          "text": [
            "\n",
            "Do you want to use float or complex numbers? (f/c): c\n",
            "Enter complex numbers in the form: a+bj (example: 2+3j)\n",
            "Enter first number: 8+2j\n",
            "Enter second number: 7+9j\n",
            "Enter the operation (+, -, *, /): +\n",
            "Result: (15+11j)\n",
            "\n",
            "Do you want to perform another calculation? (y/n): y\n",
            "\n",
            "Do you want to use float or complex numbers? (f/c): 23.8\n",
            "Invalid choice. Please select 'f' for float or 'c' for complex.\n",
            "\n",
            "Do you want to use float or complex numbers? (f/c): 976.1\n",
            "Invalid choice. Please select 'f' for float or 'c' for complex.\n",
            "\n",
            "Do you want to use float or complex numbers? (f/c): +\n",
            "Invalid choice. Please select 'f' for float or 'c' for complex.\n",
            "\n",
            "Do you want to use float or complex numbers? (f/c): f\n",
            "Enter first number: 67.4\n",
            "Enter second number: 34.2\n",
            "Enter the operation (+, -, *, /): -\n",
            "Result: 33.2\n",
            "\n",
            "Do you want to perform another calculation? (y/n): n\n",
            "Thanks for using the calculator. Goodbye!\n"
          ]
        }
      ],
      "source": [
        "while True:\n",
        "    # Ask user type\n",
        "    num_type = input(\"\\nDo you want to use float or complex numbers? (f/c): \").lower()\n",
        "\n",
        "    if num_type == \"f\":\n",
        "        num1 = float(input(\"Enter first number: \"))\n",
        "        num2 = float(input(\"Enter second number: \"))\n",
        "\n",
        "    elif num_type == \"c\":\n",
        "        print(\"Enter complex numbers in the form: a+bj (example: 2+3j)\")\n",
        "        num1 = complex(input(\"Enter first number: \"))\n",
        "        num2 = complex(input(\"Enter second number: \"))\n",
        "\n",
        "    else:\n",
        "        print(\"Invalid choice. Please select 'f' for float or 'c' for complex.\")\n",
        "        continue\n",
        "\n",
        "    # Operation input\n",
        "    operation = input(\"Enter the operation (+, -, *, /): \")\n",
        "\n",
        "    if operation == '+':\n",
        "        result = num1 + num2\n",
        "        print(\"Result:\", result)\n",
        "\n",
        "    elif operation == '-':\n",
        "        result = num1 - num2\n",
        "        print(\"Result:\", result)\n",
        "\n",
        "    elif operation == '*':\n",
        "        result = num1 * num2\n",
        "        print(\"Result:\", result)\n",
        "\n",
        "    elif operation == '/':\n",
        "        if num2 != 0:\n",
        "            result = num1 / num2\n",
        "            print(\"Result:\", result)\n",
        "        else:\n",
        "            print(\"Error: Cannot divide by zero.\")\n",
        "\n",
        "    else:\n",
        "        print(\"Invalid operation.\")\n",
        "\n",
        "    # Continue or exit\n",
        "    again = input(\"\\nDo you want to perform another calculation? (y/n): \").lower()\n",
        "    if again != \"y\":\n",
        "        print(\"Thanks for using the calculator. Goodbye!\")\n",
        "        break\n"
      ]
    },
    {
      "cell_type": "markdown",
      "source": [
        "Perform calculation based on the operation"
      ],
      "metadata": {
        "id": "YKgfk5Oh9xIw"
      }
    },
    {
      "cell_type": "code",
      "source": [
        "\n",
        "\n"
      ],
      "metadata": {
        "id": "4ayFxGXI90uV"
      },
      "execution_count": null,
      "outputs": []
    }
  ]
}