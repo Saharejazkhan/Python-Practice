{
  "nbformat": 4,
  "nbformat_minor": 0,
  "metadata": {
    "colab": {
      "provenance": []
    },
    "kernelspec": {
      "name": "python3",
      "display_name": "Python 3"
    },
    "language_info": {
      "name": "python"
    }
  },
  "cells": [
    {
      "cell_type": "markdown",
      "source": [
        "Looping Through a List"
      ],
      "metadata": {
        "id": "wBSjfL3WkTW2"
      }
    },
    {
      "cell_type": "code",
      "source": [
        "# item is used to print items from the list in verticle manner.\n",
        "\n",
        "my_list = [\"apple\", \"banana\", \"cherry\"]\n",
        "for item in my_list:\n",
        "    print(item)"
      ],
      "metadata": {
        "colab": {
          "base_uri": "https://localhost:8080/"
        },
        "id": "JsdFbYu7kWOm",
        "outputId": "894080cf-5565-4a7b-9047-7fb5f49c5ef5"
      },
      "execution_count": 1,
      "outputs": [
        {
          "output_type": "stream",
          "name": "stdout",
          "text": [
            "apple\n",
            "banana\n",
            "cherry\n"
          ]
        }
      ]
    },
    {
      "cell_type": "markdown",
      "source": [
        "Enumerate (with index)"
      ],
      "metadata": {
        "id": "f158olfpkpKY"
      }
    },
    {
      "cell_type": "code",
      "source": [
        "for i, item in enumerate(my_list):\n",
        "    print(i, item)"
      ],
      "metadata": {
        "colab": {
          "base_uri": "https://localhost:8080/"
        },
        "id": "BSEXPicelJCA",
        "outputId": "4adba972-58e4-491b-80ac-223c0dc94614"
      },
      "execution_count": 2,
      "outputs": [
        {
          "output_type": "stream",
          "name": "stdout",
          "text": [
            "0 apple\n",
            "1 banana\n",
            "2 cherry\n"
          ]
        }
      ]
    },
    {
      "cell_type": "markdown",
      "source": [
        "OR"
      ],
      "metadata": {
        "id": "7eN6Vpd3mWXW"
      }
    },
    {
      "cell_type": "code",
      "source": [
        "my_list = ['apple', 'banana', 'cherry']\n",
        "\n",
        "for index, fruit in enumerate(my_list):\n",
        "    print(index, fruit)\n"
      ],
      "metadata": {
        "colab": {
          "base_uri": "https://localhost:8080/"
        },
        "id": "NQYjDqGomXu2",
        "outputId": "cb38335c-bdd7-4bc6-9751-216c3876af93"
      },
      "execution_count": 3,
      "outputs": [
        {
          "output_type": "stream",
          "name": "stdout",
          "text": [
            "0 apple\n",
            "1 banana\n",
            "2 cherry\n"
          ]
        }
      ]
    },
    {
      "cell_type": "markdown",
      "source": [
        "List Comprehensions"
      ],
      "metadata": {
        "id": "Z2vdFB3vnAiX"
      }
    },
    {
      "cell_type": "code",
      "source": [
        "squares = [x**2 for x in range(10)]\n",
        "squares\n"
      ],
      "metadata": {
        "colab": {
          "base_uri": "https://localhost:8080/"
        },
        "id": "oaaBNKLHnBnb",
        "outputId": "5008dcb4-5401-48a9-d963-898a3f25119f"
      },
      "execution_count": 4,
      "outputs": [
        {
          "output_type": "execute_result",
          "data": {
            "text/plain": [
              "[0, 1, 4, 9, 16, 25, 36, 49, 64, 81]"
            ]
          },
          "metadata": {},
          "execution_count": 4
        }
      ]
    },
    {
      "cell_type": "markdown",
      "source": [
        "Squares with even numbers"
      ],
      "metadata": {
        "id": "-gPPYT9QnQ2u"
      }
    },
    {
      "cell_type": "code",
      "source": [
        "even_squares = [x**2 for x in range(10) if x % 2 == 0]\n",
        "\n",
        "even_squares\n",
        ""
      ],
      "metadata": {
        "colab": {
          "base_uri": "https://localhost:8080/"
        },
        "id": "U22QMBVinbUs",
        "outputId": "da4353cc-e55f-448f-fe28-44809622e393"
      },
      "execution_count": 5,
      "outputs": [
        {
          "output_type": "execute_result",
          "data": {
            "text/plain": [
              "[0, 4, 16, 36, 64]"
            ]
          },
          "metadata": {},
          "execution_count": 5
        }
      ]
    }
  ]
}