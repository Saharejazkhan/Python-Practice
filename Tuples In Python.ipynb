{
  "nbformat": 4,
  "nbformat_minor": 0,
  "metadata": {
    "colab": {
      "provenance": []
    },
    "kernelspec": {
      "name": "python3",
      "display_name": "Python 3"
    },
    "language_info": {
      "name": "python"
    }
  },
  "cells": [
    {
      "cell_type": "markdown",
      "source": [
        "Tuples in Python"
      ],
      "metadata": {
        "id": "gyrIgDY1pX-d"
      }
    },
    {
      "cell_type": "markdown",
      "source": [
        "A tuple is similar to a list, but it is immutable – you cannot add, remove, or modify elements.\n"
      ],
      "metadata": {
        "id": "awAwlUK_pZ68"
      }
    },
    {
      "cell_type": "code",
      "source": [
        "#Tuple Syntax\n",
        "\n",
        "\n",
        "my_tuple = (item1, item2, item3)\n",
        "\n",
        "empty_tuple = ()\n",
        "single = (5,)\n",
        "mixed_tuple = (\"apple\", 1, 3.14, False)\n",
        ""
      ],
      "metadata": {
        "id": "IxwYnGM1pd50"
      },
      "execution_count": null,
      "outputs": []
    },
    {
      "cell_type": "markdown",
      "source": [
        "Accessing Tuple Elements"
      ],
      "metadata": {
        "id": "2b5r0DToqF8a"
      }
    },
    {
      "cell_type": "code",
      "source": [
        "my_tuple = (\"a\", \"b\", \"c\")\n",
        "print(my_tuple[0])\n",
        "print(my_tuple[-1])"
      ],
      "metadata": {
        "colab": {
          "base_uri": "https://localhost:8080/"
        },
        "id": "lGYbL4lKqG98",
        "outputId": "a1cd972f-b425-450a-f182-27fe538eef70"
      },
      "execution_count": 1,
      "outputs": [
        {
          "output_type": "stream",
          "name": "stdout",
          "text": [
            "a\n",
            "c\n"
          ]
        }
      ]
    },
    {
      "cell_type": "markdown",
      "source": [
        "Tuple Immutability"
      ],
      "metadata": {
        "id": "lq1gkQFxqVEa"
      }
    },
    {
      "cell_type": "code",
      "source": [
        "#  Raises TypeError because tuple can not be changed.\n",
        "\n",
        "my_tuple[1] = \"z\""
      ],
      "metadata": {
        "colab": {
          "base_uri": "https://localhost:8080/",
          "height": 176
        },
        "id": "Oxlml3gqqWgv",
        "outputId": "f550d25c-c3d7-4f09-901c-726309642a11"
      },
      "execution_count": 2,
      "outputs": [
        {
          "output_type": "error",
          "ename": "TypeError",
          "evalue": "'tuple' object does not support item assignment",
          "traceback": [
            "\u001b[0;31m---------------------------------------------------------------------------\u001b[0m",
            "\u001b[0;31mTypeError\u001b[0m                                 Traceback (most recent call last)",
            "\u001b[0;32m/tmp/ipython-input-2-925327171.py\u001b[0m in \u001b[0;36m<cell line: 0>\u001b[0;34m()\u001b[0m\n\u001b[1;32m      1\u001b[0m \u001b[0;31m#  Raises TypeError because tuple can not be changed.\u001b[0m\u001b[0;34m\u001b[0m\u001b[0;34m\u001b[0m\u001b[0m\n\u001b[1;32m      2\u001b[0m \u001b[0;34m\u001b[0m\u001b[0m\n\u001b[0;32m----> 3\u001b[0;31m \u001b[0mmy_tuple\u001b[0m\u001b[0;34m[\u001b[0m\u001b[0;36m1\u001b[0m\u001b[0;34m]\u001b[0m \u001b[0;34m=\u001b[0m \u001b[0;34m\"z\"\u001b[0m\u001b[0;34m\u001b[0m\u001b[0;34m\u001b[0m\u001b[0m\n\u001b[0m",
            "\u001b[0;31mTypeError\u001b[0m: 'tuple' object does not support item assignment"
          ]
        }
      ]
    },
    {
      "cell_type": "markdown",
      "source": [
        "Tuple Methods"
      ],
      "metadata": {
        "id": "H5lo67r-qu1P"
      }
    },
    {
      "cell_type": "markdown",
      "source": [
        "1. count(value) – Count occurrences"
      ],
      "metadata": {
        "id": "7iRcu3XAqz3e"
      }
    },
    {
      "cell_type": "code",
      "source": [
        "my_tuple = (\"a\", \"b\", \"c\", \"a\")\n",
        "my_tuple.count(\"a\")"
      ],
      "metadata": {
        "colab": {
          "base_uri": "https://localhost:8080/"
        },
        "id": "s9zQAPu4q193",
        "outputId": "e7de8bfa-86d0-4439-bc28-1347863703f4"
      },
      "execution_count": 4,
      "outputs": [
        {
          "output_type": "execute_result",
          "data": {
            "text/plain": [
              "2"
            ]
          },
          "metadata": {},
          "execution_count": 4
        }
      ]
    },
    {
      "cell_type": "markdown",
      "source": [
        "2. index(value) – Index of value\n"
      ],
      "metadata": {
        "id": "o629FtVUyOmL"
      }
    },
    {
      "cell_type": "code",
      "source": [
        "my_tuple.index(\"c\")\n"
      ],
      "metadata": {
        "colab": {
          "base_uri": "https://localhost:8080/"
        },
        "id": "wsr1YfsyyPu7",
        "outputId": "c2a31534-8b58-4c9a-8cce-205d7bb7d6b6"
      },
      "execution_count": 6,
      "outputs": [
        {
          "output_type": "execute_result",
          "data": {
            "text/plain": [
              "2"
            ]
          },
          "metadata": {},
          "execution_count": 6
        }
      ]
    },
    {
      "cell_type": "markdown",
      "source": [
        "Conversion: List ↔ Tuple"
      ],
      "metadata": {
        "id": "dmfLaYhkyfCb"
      }
    },
    {
      "cell_type": "code",
      "source": [
        "my_list = [\"apple\", \"mango\", \"banana\"]\n",
        "my_tuple = tuple(my_list)\n",
        "print(my_tuple)"
      ],
      "metadata": {
        "colab": {
          "base_uri": "https://localhost:8080/"
        },
        "id": "bjVq7YLQyjlz",
        "outputId": "cfc0c961-eb3b-431c-8b54-b8caa650c72f"
      },
      "execution_count": 9,
      "outputs": [
        {
          "output_type": "stream",
          "name": "stdout",
          "text": [
            "('apple', 'mango', 'banana')\n"
          ]
        }
      ]
    },
    {
      "cell_type": "markdown",
      "source": [
        "Tuple to List\n"
      ],
      "metadata": {
        "id": "mEuvFOfby6_1"
      }
    },
    {
      "cell_type": "code",
      "source": [
        "my_tuple = (\"apple\", \"mango\", \"banana\")\n",
        "my_list = list(my_tuple)\n",
        "print(my_list)"
      ],
      "metadata": {
        "colab": {
          "base_uri": "https://localhost:8080/"
        },
        "id": "pzsa7Vxty72q",
        "outputId": "ab06aaaf-4263-43b5-e9fc-bd1781f1f771"
      },
      "execution_count": 10,
      "outputs": [
        {
          "output_type": "stream",
          "name": "stdout",
          "text": [
            "['apple', 'mango', 'banana']\n"
          ]
        }
      ]
    },
    {
      "cell_type": "markdown",
      "source": [
        "List vs Tuple\n",
        "\n",
        "\n",
        "1.   List [  ] , It is Mutable, It has many methods, Performance is slower, Use case is Dynamic Data.\n",
        "\n",
        "2.   Tuple (  ) , It is Immutable, It has few methods, Performance is faster and use case is Fixed Structure\n",
        "\n",
        "\n"
      ],
      "metadata": {
        "id": "D7NShCATzK93"
      }
    },
    {
      "cell_type": "markdown",
      "source": [
        "Intermediate List Techniques"
      ],
      "metadata": {
        "id": "juulbylWz57A"
      }
    },
    {
      "cell_type": "code",
      "source": [
        "1. Nested List Access"
      ],
      "metadata": {
        "id": "vAaBcgpbz7D_"
      },
      "execution_count": null,
      "outputs": []
    },
    {
      "cell_type": "code",
      "source": [
        "# here matrix is the value in the bracket, starting from 0 index.\n",
        "\n",
        "matrix = [[1, 2], [3, 4]]\n",
        "print(matrix[1][0])"
      ],
      "metadata": {
        "colab": {
          "base_uri": "https://localhost:8080/"
        },
        "id": "5o0R9A3D04i3",
        "outputId": "89d210c3-6b03-443c-cc84-9646ecb7f6c8"
      },
      "execution_count": 11,
      "outputs": [
        {
          "output_type": "stream",
          "name": "stdout",
          "text": [
            "3\n"
          ]
        }
      ]
    },
    {
      "cell_type": "code",
      "source": [
        "matrix = [[1, 2], [3, 4]]\n",
        "print(matrix[0][1])"
      ],
      "metadata": {
        "colab": {
          "base_uri": "https://localhost:8080/"
        },
        "id": "64kZ9Ad-1ZaP",
        "outputId": "0f652c28-aee0-4efc-c828-cb1aa3576fdb"
      },
      "execution_count": 12,
      "outputs": [
        {
          "output_type": "stream",
          "name": "stdout",
          "text": [
            "2\n"
          ]
        }
      ]
    },
    {
      "cell_type": "markdown",
      "source": [
        "2. Unpacking Lists and Tuples\n"
      ],
      "metadata": {
        "id": "Aqu5CL5g159v"
      }
    },
    {
      "cell_type": "code",
      "source": [
        "a, b, c = [1, 2, 3]\n",
        "print(a)\n",
        "print(b)\n",
        "print(c)"
      ],
      "metadata": {
        "colab": {
          "base_uri": "https://localhost:8080/"
        },
        "id": "8w5BIeGU17PP",
        "outputId": "4e5baa71-f277-450b-fad6-9ac8de0041f8"
      },
      "execution_count": 13,
      "outputs": [
        {
          "output_type": "stream",
          "name": "stdout",
          "text": [
            "1\n",
            "2\n",
            "3\n"
          ]
        }
      ]
    },
    {
      "cell_type": "code",
      "source": [
        "a, b, c = [\"Sana\", \"Ali\", \"Hamza\"]\n",
        "print(a)\n",
        "print(b)\n",
        "print(c)"
      ],
      "metadata": {
        "colab": {
          "base_uri": "https://localhost:8080/"
        },
        "id": "rY8I_JeD2Bre",
        "outputId": "fa32269c-e2f5-46b6-cfd9-63085ba78408"
      },
      "execution_count": 14,
      "outputs": [
        {
          "output_type": "stream",
          "name": "stdout",
          "text": [
            "Sana\n",
            "Ali\n",
            "Hamza\n"
          ]
        }
      ]
    },
    {
      "cell_type": "markdown",
      "source": [
        "3. Slicing"
      ],
      "metadata": {
        "id": "EOrKOeDW2NpR"
      }
    },
    {
      "cell_type": "code",
      "source": [
        "# here the print command will print value from index 1 to 5. it will not include the value on 5th index.\n",
        "\n",
        "my_list = [0, 1, 2, 3, 4, 5]\n",
        "print(my_list[1:5])"
      ],
      "metadata": {
        "colab": {
          "base_uri": "https://localhost:8080/"
        },
        "id": "1ehs6BgC2Qm0",
        "outputId": "2794792c-c394-473f-f39b-732f1c112136"
      },
      "execution_count": 16,
      "outputs": [
        {
          "output_type": "stream",
          "name": "stdout",
          "text": [
            "[1, 2, 3, 4]\n"
          ]
        }
      ]
    },
    {
      "cell_type": "markdown",
      "source": [
        "4. Check Membership"
      ],
      "metadata": {
        "id": "VZIRBvar3OQg"
      }
    },
    {
      "cell_type": "code",
      "source": [
        "\"apple\" in [\"banana\", \"apple\", \"cherry\"]\n"
      ],
      "metadata": {
        "colab": {
          "base_uri": "https://localhost:8080/"
        },
        "id": "oAP_ySwG3PdX",
        "outputId": "5ed9f426-06e7-421c-e95e-662a05bc8235"
      },
      "execution_count": 17,
      "outputs": [
        {
          "output_type": "execute_result",
          "data": {
            "text/plain": [
              "True"
            ]
          },
          "metadata": {},
          "execution_count": 17
        }
      ]
    },
    {
      "cell_type": "code",
      "source": [
        "\"Rabia\" in [\"Sana\", \"Ali\", \"Hamza\"]"
      ],
      "metadata": {
        "colab": {
          "base_uri": "https://localhost:8080/"
        },
        "id": "jTcIiz4m3UVf",
        "outputId": "f4b42cc1-dc9b-40d6-bddc-8a2a283818a8"
      },
      "execution_count": 20,
      "outputs": [
        {
          "output_type": "execute_result",
          "data": {
            "text/plain": [
              "False"
            ]
          },
          "metadata": {},
          "execution_count": 20
        }
      ]
    }
  ]
}