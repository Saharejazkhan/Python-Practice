{
  "nbformat": 4,
  "nbformat_minor": 0,
  "metadata": {
    "colab": {
      "provenance": []
    },
    "kernelspec": {
      "name": "python3",
      "display_name": "Python 3"
    },
    "language_info": {
      "name": "python"
    }
  },
  "cells": [
    {
      "cell_type": "markdown",
      "source": [
        "Grade Checker"
      ],
      "metadata": {
        "id": "5OI0loS7wnBt"
      }
    },
    {
      "cell_type": "code",
      "source": [
        "Marks =int(input(\"Enter your marks: \"))\n",
        "if Marks >= 90:\n",
        "   print(\"Grade A\")\n",
        "elif Marks >= 80:\n",
        "   print(\"Grade B\")\n",
        "elif Marks >= 70:\n",
        "   print(\"Grade C\")\n",
        "else:\n",
        "   print(\"You have failed this exam.\")"
      ],
      "metadata": {
        "colab": {
          "base_uri": "https://localhost:8080/"
        },
        "id": "hps7vKPCwpJk",
        "outputId": "d7b7f3ec-bd44-447e-dcb4-4971f62aea5c"
      },
      "execution_count": 4,
      "outputs": [
        {
          "output_type": "stream",
          "name": "stdout",
          "text": [
            "Enter your marks: 89\n",
            "Grade B\n"
          ]
        }
      ]
    },
    {
      "cell_type": "code",
      "source": [
        "Marks =int(input(\"Enter your marks: \"))\n",
        "if Marks >= 90:\n",
        "   print(\"Grade A\")\n",
        "elif Marks >= 80:\n",
        "   print(\"Grade B\")\n",
        "elif Marks >= 70:\n",
        "   print(\"Grade C\")\n",
        "else:\n",
        "   print(\"You have failed this exam.\")"
      ],
      "metadata": {
        "colab": {
          "base_uri": "https://localhost:8080/"
        },
        "id": "hgZ37bdsy_mf",
        "outputId": "98e594ce-bdce-4e0d-b7a0-3f11374045a1"
      },
      "execution_count": 5,
      "outputs": [
        {
          "output_type": "stream",
          "name": "stdout",
          "text": [
            "Enter your marks: 75\n",
            "Grade C\n"
          ]
        }
      ]
    },
    {
      "cell_type": "code",
      "source": [
        "Marks =int(input(\"Enter your marks: \"))\n",
        "if Marks >= 90:\n",
        "   print(\"Grade A\")\n",
        "elif Marks >= 80:\n",
        "   print(\"Grade B\")\n",
        "elif Marks >= 70:\n",
        "   print(\"Grade C\")\n",
        "else:\n",
        "   print(\"You have failed this exam.\")"
      ],
      "metadata": {
        "colab": {
          "base_uri": "https://localhost:8080/"
        },
        "id": "USDR6LsqzG1Z",
        "outputId": "20b5dcd8-20db-453f-a8a0-3ba7117d7b39"
      },
      "execution_count": 6,
      "outputs": [
        {
          "output_type": "stream",
          "name": "stdout",
          "text": [
            "Enter your marks: 97\n",
            "Grade A\n"
          ]
        }
      ]
    },
    {
      "cell_type": "code",
      "source": [
        "Marks =int(input(\"Enter your marks: \"))\n",
        "if Marks >= 90:\n",
        "   print(\"Grade A\")\n",
        "elif Marks >= 80:\n",
        "   print(\"Grade B\")\n",
        "elif Marks >= 70:\n",
        "   print(\"Grade C\")\n",
        "else:\n",
        "   print(\"You have failed this exam.\")"
      ],
      "metadata": {
        "id": "JRgHU-3azKvg",
        "outputId": "6ed7dc4c-63fe-4613-8b08-d5652b4583db",
        "colab": {
          "base_uri": "https://localhost:8080/"
        }
      },
      "execution_count": 7,
      "outputs": [
        {
          "output_type": "stream",
          "name": "stdout",
          "text": [
            "Enter your marks: 59\n",
            "You have failed this exam.\n"
          ]
        }
      ]
    }
  ]
}