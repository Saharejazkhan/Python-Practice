{
  "nbformat": 4,
  "nbformat_minor": 0,
  "metadata": {
    "colab": {
      "provenance": []
    },
    "kernelspec": {
      "name": "python3",
      "display_name": "Python 3"
    },
    "language_info": {
      "name": "python"
    }
  },
  "cells": [
    {
      "cell_type": "markdown",
      "source": [
        "BMI Calculator"
      ],
      "metadata": {
        "id": "4ibstjlzetma"
      }
    },
    {
      "cell_type": "code",
      "source": [
        "weight =float(input(\"Enter your weight: \"))\n",
        "height =float(input(\"Enter your height: \"))\n",
        "BMI =weight/(height*2)\n",
        "print(\"Your BMI is: \", BMI)\n",
        "\n",
        "if BMI < 18.5:\n",
        "    print(\"Status: Underweight\")\n",
        "elif BMI < 25:\n",
        "    print(\"Status: Normal weight\")\n",
        "elif BMI < 30:\n",
        "    print(\"Status: Overweight\")\n",
        "else:\n",
        "    print(\"Status: Obese\")"
      ],
      "metadata": {
        "colab": {
          "base_uri": "https://localhost:8080/"
        },
        "id": "9-QFcPaaevtN",
        "outputId": "a5854e1e-7e50-4104-b03f-edd8fcbf355a"
      },
      "execution_count": 5,
      "outputs": [
        {
          "output_type": "stream",
          "name": "stdout",
          "text": [
            "Enter your weight: 85\n",
            "Enter your height: 5.3\n",
            "Your BMI is:  8.018867924528303\n",
            "Status: Underweight\n"
          ]
        }
      ]
    }
  ]
}