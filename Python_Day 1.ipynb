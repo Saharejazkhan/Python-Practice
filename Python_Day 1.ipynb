{
  "nbformat": 4,
  "nbformat_minor": 0,
  "metadata": {
    "colab": {
      "provenance": []
    },
    "kernelspec": {
      "name": "python3",
      "display_name": "Python 3"
    },
    "language_info": {
      "name": "python"
    }
  },
  "cells": [
    {
      "cell_type": "code",
      "execution_count": null,
      "metadata": {
        "colab": {
          "base_uri": "https://localhost:8080/"
        },
        "id": "GCHpW6UHlzxV",
        "outputId": "7adbc611-8e93-4896-c1fd-0aeeb669b34e"
      },
      "outputs": [
        {
          "output_type": "stream",
          "name": "stdout",
          "text": [
            "Hello! I'm Sahar \n",
            " I'm From Pakistan \n",
            " I love to travel\n"
          ]
        }
      ],
      "source": [
        "print(\"Hello! I'm Sahar \\n I'm From Pakistan \\n I love to travel\")"
      ]
    },
    {
      "cell_type": "code",
      "source": [
        "a= 12\n",
        "b= 17.5\n",
        "c=True\n",
        "d=\"Sahar\"\n",
        "\n",
        "print(type(a))\n",
        "print(type(b))\n",
        "print(type(c))\n",
        "print(type(d))\n"
      ],
      "metadata": {
        "colab": {
          "base_uri": "https://localhost:8080/"
        },
        "id": "krO3ChHUmVmm",
        "outputId": "15170c61-bfcc-4f0d-f7d4-dfef007fe23b"
      },
      "execution_count": null,
      "outputs": [
        {
          "output_type": "stream",
          "name": "stdout",
          "text": [
            "<class 'int'>\n",
            "<class 'float'>\n",
            "<class 'bool'>\n",
            "<class 'str'>\n"
          ]
        }
      ]
    },
    {
      "cell_type": "markdown",
      "source": [],
      "metadata": {
        "id": "m3rIGmATo2kJ"
      }
    },
    {
      "cell_type": "markdown",
      "source": [
        "#Changing String into Integer\n"
      ],
      "metadata": {
        "id": "1dmHfPY1o3iW"
      }
    },
    {
      "cell_type": "code",
      "source": [
        "string_number = \"12345\"\n",
        "int_number = int(string_number)\n",
        "print(int_number)\n",
        "print(type(int_number))\n"
      ],
      "metadata": {
        "id": "-U8CfzUJo-fs",
        "colab": {
          "base_uri": "https://localhost:8080/"
        },
        "outputId": "0b2f49fa-8d19-4521-dd0a-92843fbe93f1"
      },
      "execution_count": 5,
      "outputs": [
        {
          "output_type": "stream",
          "name": "stdout",
          "text": [
            "12345\n",
            "<class 'int'>\n"
          ]
        }
      ]
    },
    {
      "cell_type": "code",
      "source": [
        "city_code =\"1122\"\n",
        "a = int(city_code)\n",
        "print(a)\n",
        "print(type(a))\n"
      ],
      "metadata": {
        "colab": {
          "base_uri": "https://localhost:8080/"
        },
        "id": "jWmZemgY0qiR",
        "outputId": "65335217-7a80-4711-9167-81b279418925"
      },
      "execution_count": 6,
      "outputs": [
        {
          "output_type": "stream",
          "name": "stdout",
          "text": [
            "1122\n",
            "<class 'int'>\n"
          ]
        }
      ]
    },
    {
      "cell_type": "code",
      "source": [
        "x = float(77)\n",
        "print(x)\n"
      ],
      "metadata": {
        "colab": {
          "base_uri": "https://localhost:8080/"
        },
        "id": "-hndZi4T8kIq",
        "outputId": "cb979b98-d24c-4394-e392-0bcd97e58eff"
      },
      "execution_count": 8,
      "outputs": [
        {
          "output_type": "stream",
          "name": "stdout",
          "text": [
            "77.0\n"
          ]
        }
      ]
    },
    {
      "cell_type": "code",
      "source": [
        "x = str(1999)\n",
        "print(x)\n",
        "print(type(x))\n"
      ],
      "metadata": {
        "colab": {
          "base_uri": "https://localhost:8080/"
        },
        "id": "Rsp1rql280od",
        "outputId": "97e67d78-dff7-480e-f5ad-da34b5e3dabd"
      },
      "execution_count": 9,
      "outputs": [
        {
          "output_type": "stream",
          "name": "stdout",
          "text": [
            "1999\n",
            "<class 'str'>\n"
          ]
        }
      ]
    }
  ]
}