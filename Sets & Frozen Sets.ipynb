{
  "nbformat": 4,
  "nbformat_minor": 0,
  "metadata": {
    "colab": {
      "provenance": []
    },
    "kernelspec": {
      "name": "python3",
      "display_name": "Python 3"
    },
    "language_info": {
      "name": "python"
    }
  },
  "cells": [
    {
      "cell_type": "markdown",
      "source": [
        "# Sets and Frozen Sets"
      ],
      "metadata": {
        "id": "jWAHDm2wAADP"
      }
    },
    {
      "cell_type": "code",
      "execution_count": 6,
      "metadata": {
        "colab": {
          "base_uri": "https://localhost:8080/"
        },
        "id": "iObDRMR-_-mw",
        "outputId": "c6fef537-e091-4913-e854-540f9218419c"
      },
      "outputs": [
        {
          "output_type": "stream",
          "name": "stdout",
          "text": [
            "FROZEN SET\n",
            "\n",
            "Assigning Values\n",
            "\n",
            "my_frozenset_list <class 'frozenset'>\n",
            "\n",
            "frozenset({1, 2, 3})\n",
            "\n",
            "\n"
          ]
        }
      ],
      "source": [
        "#Frozen Set\n",
        "print(\"FROZEN SET\\n\")\n",
        "\n",
        "#Assigning Values\n",
        "print(\"Assigning Values\\n\")\n",
        "my_frozenset_list = frozenset([1, 2, 3, True])\n",
        "print(\"my_frozenset_list\", type(my_frozenset_list))\n",
        "print(f\"\\n{my_frozenset_list}\\n\\n\")\n"
      ]
    },
    {
      "cell_type": "code",
      "execution_count": 7,
      "metadata": {
        "colab": {
          "base_uri": "https://localhost:8080/"
        },
        "outputId": "d4cf982f-6c6f-44b9-9656-9bc96457845d",
        "id": "l_zjZ_vjBrVE"
      },
      "outputs": [
        {
          "output_type": "stream",
          "name": "stdout",
          "text": [
            "my_frozenset_tuple <class 'frozenset'>\n",
            "\n",
            "frozenset({False, 1, 2, 3, 2j, 'black'})\n",
            "\n",
            "\n"
          ]
        }
      ],
      "source": [
        "# Frozen set as Tuple\n",
        "\n",
        "my_frozenset_tuple = frozenset((False, 0, 1, 2, 3, \"black\", 2j))\n",
        "print(\"my_frozenset_tuple\", type(my_frozenset_tuple))\n",
        "print(f\"\\n{my_frozenset_tuple}\\n\\n\")\n",
        "\n"
      ]
    },
    {
      "cell_type": "code",
      "execution_count": 8,
      "metadata": {
        "colab": {
          "base_uri": "https://localhost:8080/"
        },
        "outputId": "3526efb5-2771-424b-8359-9a87e48ecd6c",
        "id": "8Ksh9DxrBorg"
      },
      "outputs": [
        {
          "output_type": "stream",
          "name": "stdout",
          "text": [
            "my_frozenset_set <class 'frozenset'>\n",
            "\n",
            "frozenset({1, 2, 3, 2j, 'black'})\n",
            "\n",
            "\n"
          ]
        }
      ],
      "source": [
        "# Frozen set as Set\n",
        "\n",
        "my_frozenset_set = frozenset({1, 2, 3, \"black\", 2j})\n",
        "print(\"my_frozenset_set\", type(my_frozenset_set))\n",
        "print(f\"\\n{my_frozenset_set}\\n\\n\")\n",
        "\n",
        "\n",
        "\n"
      ]
    },
    {
      "cell_type": "code",
      "source": [
        "# Frozen set as Dictionary\n",
        "\n",
        "\n",
        "my_frozenset_dict = frozenset(dict(name=\"Henry\",age=28,address=\"125, st.9, Mayfair Road\")) #doesn't create dict inside a frozen set\n",
        "print(\"my_frozenset_dict\", type(my_frozenset_dict))\n",
        "print(f\"\\n{my_frozenset_dict}\\n\\n\")"
      ],
      "metadata": {
        "colab": {
          "base_uri": "https://localhost:8080/"
        },
        "id": "Dsr9kCxeCC6j",
        "outputId": "e28736fe-2ae4-4eed-d9c6-0b6916cb55b3"
      },
      "execution_count": 9,
      "outputs": [
        {
          "output_type": "stream",
          "name": "stdout",
          "text": [
            "my_frozenset_dict <class 'frozenset'>\n",
            "\n",
            "frozenset({'address', 'name', 'age'})\n",
            "\n",
            "\n"
          ]
        }
      ]
    },
    {
      "cell_type": "code",
      "source": [
        "#Accessing Values\n",
        "# my_frozenset_set = frozenset({1, 2, 3, \"black\", 2j})  this is the st we used above, if the element is present in set it will print True otherwise False.\n",
        "\n",
        "print(\"Accessing Values\\n\")\n",
        "for x in my_frozenset_set:\n",
        "    print(x)\n",
        "\n",
        "print(\"white\" in my_frozenset_set)\n",
        "\n",
        "print(\"black\" in my_frozenset_set)"
      ],
      "metadata": {
        "colab": {
          "base_uri": "https://localhost:8080/"
        },
        "id": "IxoBWYiLNrFV",
        "outputId": "63e30275-d6fd-43c9-e077-b2fd5f1cd967"
      },
      "execution_count": 10,
      "outputs": [
        {
          "output_type": "stream",
          "name": "stdout",
          "text": [
            "Accessing Values\n",
            "\n",
            "1\n",
            "2\n",
            "3\n",
            "2j\n",
            "black\n",
            "False\n",
            "True\n"
          ]
        }
      ]
    },
    {
      "cell_type": "markdown",
      "source": [
        "# Using Union to add values"
      ],
      "metadata": {
        "id": "CAKm58UlPZ93"
      }
    },
    {
      "cell_type": "code",
      "source": [
        "# 1. Using Union Union to add values indirectly\n",
        "\n",
        "print(\"\\n\\nAdding Values\\n\")\n",
        "print(\"Using Union Method\\n\")\n",
        "my_frozenset_set=my_frozenset_set.union([4])\n",
        "print(\"my_frozenset_set\", type(my_frozenset_set))\n",
        "print(f\"\\n{my_frozenset_set}\\n\\n\")"
      ],
      "metadata": {
        "colab": {
          "base_uri": "https://localhost:8080/"
        },
        "id": "653dAgbxPVDf",
        "outputId": "b175cb69-b92d-4a56-f3f5-a2f76f5e9c96"
      },
      "execution_count": 16,
      "outputs": [
        {
          "output_type": "stream",
          "name": "stdout",
          "text": [
            "\n",
            "\n",
            "Adding Values\n",
            "\n",
            "Using Union Method\n",
            "\n",
            "my_frozenset_set <class 'frozenset'>\n",
            "\n",
            "frozenset({1, 2, 3, 4, 2j, 'black'})\n",
            "\n",
            "\n"
          ]
        }
      ]
    },
    {
      "cell_type": "code",
      "source": [
        "# Checking the id and using Union\n",
        "\n",
        "default_permissions=frozenset((\"read\", \"write\"))\n",
        "new_permissions=(\"delete\", \"execute\")\n",
        "print(type(new_permissions))\n",
        "\n",
        "print(id(default_permissions))\n",
        "\n",
        "default_permissions=default_permissions.union(new_permissions)\n",
        "print(default_permissions, type(default_permissions))\n"
      ],
      "metadata": {
        "colab": {
          "base_uri": "https://localhost:8080/"
        },
        "id": "vrtw_GdkP3Fw",
        "outputId": "feaac207-41fc-4348-8f59-69479b614392"
      },
      "execution_count": 13,
      "outputs": [
        {
          "output_type": "stream",
          "name": "stdout",
          "text": [
            "<class 'tuple'>\n",
            "134585091350464\n",
            "frozenset({'write', 'read', 'delete', 'execute'}) <class 'frozenset'>\n"
          ]
        }
      ]
    },
    {
      "cell_type": "code",
      "source": [
        "#Using a dictionary to add values indirectly while creating a new frozen set\n",
        "\n",
        "new_permissions={\"permissions\":(\"delete\", \"execute\")}\n",
        "print(type(new_permissions))\n",
        "\n",
        "default_permissions=frozenset((\"read\", \"write\"))\n",
        "default_permissions=default_permissions.union(new_permissions[\"permissions\"])\n",
        "print(default_permissions, type(default_permissions))"
      ],
      "metadata": {
        "colab": {
          "base_uri": "https://localhost:8080/"
        },
        "id": "X9PFMJ_jQVaN",
        "outputId": "65abc226-ae60-406f-cc2f-c9fd3c31beb1"
      },
      "execution_count": 14,
      "outputs": [
        {
          "output_type": "stream",
          "name": "stdout",
          "text": [
            "<class 'dict'>\n",
            "frozenset({'write', 'read', 'delete', 'execute'}) <class 'frozenset'>\n"
          ]
        }
      ]
    },
    {
      "cell_type": "code",
      "source": [
        "#Checking Memory Address\n",
        "print(id(default_permissions))"
      ],
      "metadata": {
        "colab": {
          "base_uri": "https://localhost:8080/"
        },
        "id": "P7cH-TKIQ-nD",
        "outputId": "22a0555d-3980-40df-efa9-57bd9070f7f0"
      },
      "execution_count": 15,
      "outputs": [
        {
          "output_type": "stream",
          "name": "stdout",
          "text": [
            "134585091350688\n"
          ]
        }
      ]
    },
    {
      "cell_type": "markdown",
      "source": [
        "# Using Intersection Method to add values indirectly"
      ],
      "metadata": {
        "id": "gm-1vJs3RIrA"
      }
    },
    {
      "cell_type": "code",
      "source": [
        "# 2. Using Intersection Method to add values indirectly\n",
        "\n",
        "default_permissions = frozenset((\"read\", \"write\", \"delete\", \"execute\"))\n",
        "new_permissions = frozenset((\"delete\", \"execute\"))\n",
        "\n",
        "result = default_permissions.intersection(new_permissions)\n",
        "print(result)   # frozenset({'delete', 'execute'})\n",
        "\n",
        "\n"
      ],
      "metadata": {
        "colab": {
          "base_uri": "https://localhost:8080/"
        },
        "id": "ACRybxjMRFyd",
        "outputId": "606dab6c-0500-4752-d68c-33efac64fb26"
      },
      "execution_count": 28,
      "outputs": [
        {
          "output_type": "stream",
          "name": "stdout",
          "text": [
            "frozenset({'execute', 'delete'})\n"
          ]
        }
      ]
    },
    {
      "cell_type": "markdown",
      "source": [
        "# Using - operator to remove values indirectly"
      ],
      "metadata": {
        "id": "vleV8-jwSUxZ"
      }
    },
    {
      "cell_type": "code",
      "source": [
        "# Removing Values indirectly\n",
        "\n",
        "# 1. Using - operator to remove values indirectly\n",
        "print(\"\\n\\nRemoving Values\\n\")\n",
        "\n",
        "default_permissions=frozenset((\"read\", \"write\", \"delete\", \"execute\"))\n",
        "print(default_permissions, type(default_permissions))\n",
        "\n",
        "new_permissions=frozenset((\"delete\", \"execute\"))\n",
        "print(new_permissions, type(new_permissions))\n",
        "\n",
        "default_permissions=default_permissions-new_permissions\n",
        "print(\"\\nUsing - operator \\n\", default_permissions, type(default_permissions))"
      ],
      "metadata": {
        "colab": {
          "base_uri": "https://localhost:8080/"
        },
        "id": "9FkuGVeuSKzd",
        "outputId": "bd6a0e5a-5970-4521-a45c-1e43f841b745"
      },
      "execution_count": 19,
      "outputs": [
        {
          "output_type": "stream",
          "name": "stdout",
          "text": [
            "\n",
            "\n",
            "Removing Values\n",
            "\n",
            "frozenset({'write', 'read', 'delete', 'execute'}) <class 'frozenset'>\n",
            "frozenset({'execute', 'delete'}) <class 'frozenset'>\n",
            "\n",
            "Using - operator \n",
            " frozenset({'write', 'read'}) <class 'frozenset'>\n"
          ]
        }
      ]
    },
    {
      "cell_type": "markdown",
      "source": [
        "# Using difference method to remove values indirectly\n"
      ],
      "metadata": {
        "id": "sNxakmHVUAlD"
      }
    },
    {
      "cell_type": "code",
      "source": [
        "# 2. Using difference method to remove values indirectly\n",
        "\n",
        "default_permissions=frozenset((\"read\", \"write\", \"delete\", \"execute\"))\n",
        "print(default_permissions, type(default_permissions))\n",
        "\n",
        "#new_permissions=frozenset((\"delete\", \"execute\"))\n",
        "#print(new_permissions, type(new_permissions))\n",
        "\n",
        "# Using a set\n",
        "new_permissions={\"delete\", \"execute\"}\n",
        "print(new_permissions, type(new_permissions))\n",
        "\n",
        "#Using a dictionary\n",
        "new_permissions={\"permissions\":(\"delete\", \"execute\")}\n",
        "print(new_permissions, type(new_permissions))\n",
        "\n",
        "default_permissions=default_permissions.difference(new_permissions[\"permissions\"])\n",
        "print(\"\\nUsing difference method \\n\", default_permissions, type(default_permissions))\n",
        "\n",
        "\n"
      ],
      "metadata": {
        "colab": {
          "base_uri": "https://localhost:8080/"
        },
        "id": "DiUMEk78T2Km",
        "outputId": "9ed02310-8450-4e0a-ef0f-9de1adb88820"
      },
      "execution_count": 20,
      "outputs": [
        {
          "output_type": "stream",
          "name": "stdout",
          "text": [
            "frozenset({'write', 'read', 'delete', 'execute'}) <class 'frozenset'>\n",
            "{'execute', 'delete'} <class 'set'>\n",
            "{'permissions': ('delete', 'execute')} <class 'dict'>\n",
            "\n",
            "Using difference method \n",
            " frozenset({'write', 'read'}) <class 'frozenset'>\n"
          ]
        }
      ]
    },
    {
      "cell_type": "markdown",
      "source": [
        "#Using Dictionary in sets"
      ],
      "metadata": {
        "id": "zlQuBrpodTt6"
      }
    },
    {
      "cell_type": "code",
      "source": [
        "#Dictionary\n",
        "\n",
        "#Assigning Values\n",
        "User_info={\n",
        "    \"name\": \"Henry\",\n",
        "    \"age\": 28,\n",
        "    \"address\": \"125, St. 9, Mayfair Road\",\n",
        "    \"year\": 2000,\n",
        "    \"offsprings\": [\"Kenny\", \"Wendy\", \"Mark\"]\n",
        "}\n",
        "\n",
        "print(User_info)\n",
        "\n",
        "countries=dict(name= \"Pakistan\", language= \"Urdu\", year=1947)\n",
        "\n",
        "#Accessing Values\n",
        "print(countries[\"year\"])\n",
        "\n",
        "countries.get(\"language\")\n",
        "\n",
        "countries.keys()\n",
        "\n",
        "countries.values()\n",
        "\n",
        "countries.items()\n",
        "\n",
        "#Let us access values of a dictionary where a tuple is a key\n",
        "location={\"city\":\"Islamabad\", (\"longitude\",\"latitude\"):(\"-51.4930\",\"-30.2342\")}\n",
        "print(location.keys)\n",
        "\n",
        "print(location[\"longitude\",\"latitude\"])\n",
        "\n",
        "#Changing Items\n",
        "\n",
        "countries[\"year\"]=1990\n",
        "\n",
        "countries.items()\n",
        "\n",
        "countries.update({\"year\":2000})\n",
        "\n",
        "countries.items()\n",
        "\n",
        "countries2={\"year\": 2005}\n",
        "countries.update(countries2)\n",
        "\n",
        "countries.items()\n",
        "\n",
        "# Adding Items\n",
        "countries[\"capital\"]=\"Islamabad\"\n",
        "countries.items()\n",
        "\n",
        "countries.update({\"rivers_count\": 5})\n",
        "countries.items()\n",
        "\n",
        "continent = {\"continent_name\": \"Asia\"}\n",
        "countries.update(continent)\n",
        "countries.items()\n",
        "\n",
        "#Removing Items\n",
        "countries=dict(name= \"Pakistan\", language= \"Urdu\", year=1947)\n",
        "countries.pop(\"year\")\n",
        "#countries.popitem()\n",
        "#print(countries)\n",
        "\n",
        "countries.popitem()\n",
        "print(countries)\n",
        "\n",
        "countries.clear()\n",
        "print(countries)\n",
        "\n",
        "del countries\n",
        "#print(countries)"
      ],
      "metadata": {
        "colab": {
          "base_uri": "https://localhost:8080/"
        },
        "id": "x1gDR5zrV6f0",
        "outputId": "84aa1231-981e-494b-916e-7ac2145aa6d7"
      },
      "execution_count": 29,
      "outputs": [
        {
          "output_type": "stream",
          "name": "stdout",
          "text": [
            "{'name': 'Henry', 'age': 28, 'address': '125, St. 9, Mayfair Road', 'year': 2000, 'offsprings': ['Kenny', 'Wendy', 'Mark']}\n",
            "1947\n",
            "<built-in method keys of dict object at 0x7a67602d8b00>\n",
            "('-51.4930', '-30.2342')\n",
            "{'name': 'Pakistan'}\n",
            "{}\n"
          ]
        }
      ]
    }
  ]
}