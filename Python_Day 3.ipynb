{
  "nbformat": 4,
  "nbformat_minor": 0,
  "metadata": {
    "colab": {
      "provenance": []
    },
    "kernelspec": {
      "name": "python3",
      "display_name": "Python 3"
    },
    "language_info": {
      "name": "python"
    }
  },
  "cells": [
    {
      "cell_type": "markdown",
      "source": [
        "\n",
        "Conditional Statements\n",
        "\n"
      ],
      "metadata": {
        "id": "bzK44OMKCKOm"
      }
    },
    {
      "cell_type": "code",
      "source": [
        "marks=int(input(\"Enter your marks: \"))\n",
        "if marks>90:\n",
        "  print(\"A Grade\")\n",
        "elif marks > 80:\n",
        "  print(\"B Grade\")\n",
        "else :\n",
        "  print(\"C Grade\")"
      ],
      "metadata": {
        "colab": {
          "base_uri": "https://localhost:8080/"
        },
        "id": "PmzmiNIVCSDE",
        "outputId": "95464cc6-cef9-4a25-9c67-cab17965de13"
      },
      "execution_count": 4,
      "outputs": [
        {
          "output_type": "stream",
          "name": "stdout",
          "text": [
            "Enter your marks99\n",
            "A Grade\n"
          ]
        }
      ]
    },
    {
      "cell_type": "code",
      "source": [
        "marks=int(input(\"Enter your marks: \"))\n",
        "if marks>90:\n",
        "  print(\"A Grade\")\n",
        "elif marks > 80:\n",
        "  print(\"B Grade\")\n",
        "else :\n",
        "  print(\"C Grade\")"
      ],
      "metadata": {
        "colab": {
          "base_uri": "https://localhost:8080/"
        },
        "id": "tGhNFiVRDf-o",
        "outputId": "d45ed151-659e-449b-e9bd-ce1d89ef4a8e"
      },
      "execution_count": 5,
      "outputs": [
        {
          "output_type": "stream",
          "name": "stdout",
          "text": [
            "Enter your marks85\n",
            "B Grade\n"
          ]
        }
      ]
    },
    {
      "cell_type": "code",
      "source": [
        "marks=int(input(\"Enter your marks: \"))\n",
        "if marks>90:\n",
        "  print(\"A Grade\")\n",
        "elif marks > 80:\n",
        "  print(\"B Grade\")\n",
        "else :\n",
        "  print(\"C Grade\")"
      ],
      "metadata": {
        "colab": {
          "base_uri": "https://localhost:8080/"
        },
        "id": "E_d5J3O3Djmo",
        "outputId": "d27996da-8f8e-42df-d6ae-a20d53481f88"
      },
      "execution_count": 7,
      "outputs": [
        {
          "output_type": "stream",
          "name": "stdout",
          "text": [
            "Enter your marks: 70\n",
            "C Grade\n"
          ]
        }
      ]
    },
    {
      "cell_type": "markdown",
      "source": [],
      "metadata": {
        "id": "dzS3hDR3DoYs"
      }
    }
  ]
}