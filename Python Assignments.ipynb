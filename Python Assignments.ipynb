{
  "nbformat": 4,
  "nbformat_minor": 0,
  "metadata": {
    "colab": {
      "provenance": []
    },
    "kernelspec": {
      "name": "python3",
      "display_name": "Python 3"
    },
    "language_info": {
      "name": "python"
    }
  },
  "cells": [
    {
      "cell_type": "markdown",
      "source": [
        "1: Convert a list of numbers to a tuple and back.\n"
      ],
      "metadata": {
        "id": "1MlbsfAQ86ka"
      }
    },
    {
      "cell_type": "code",
      "source": [
        "numbers = [1,27,80,17,87,77,2]\n",
        "numbers =tuple(numbers)\n",
        "print(numbers)"
      ],
      "metadata": {
        "colab": {
          "base_uri": "https://localhost:8080/"
        },
        "id": "zC6UJRwh88Yh",
        "outputId": "e73d854e-ae22-4b3d-f84b-9de8be627eba"
      },
      "execution_count": 14,
      "outputs": [
        {
          "output_type": "stream",
          "name": "stdout",
          "text": [
            "(1, 27, 80, 17, 87, 77, 2)\n"
          ]
        }
      ]
    },
    {
      "cell_type": "code",
      "source": [
        "#Changing tuple back to list\n",
        "\n",
        "numbers = list(numbers)\n",
        "print(numbers)"
      ],
      "metadata": {
        "colab": {
          "base_uri": "https://localhost:8080/"
        },
        "id": "BkfKIa4_9aLW",
        "outputId": "e65f0485-eb29-4cfb-ff44-d915a204eee2"
      },
      "execution_count": 15,
      "outputs": [
        {
          "output_type": "stream",
          "name": "stdout",
          "text": [
            "[1, 27, 80, 17, 87, 77, 2]\n"
          ]
        }
      ]
    },
    {
      "cell_type": "markdown",
      "source": [
        "2: Create a nested list representing a 3x3 matrix and access center element."
      ],
      "metadata": {
        "id": "kiKz4bJp9uk-"
      }
    },
    {
      "cell_type": "code",
      "source": [
        "fruits = [[\"apple\",\"cherry\",\"strawberry\"], [\"kiwi\", \"watermelon\", \"blueberry\"], [\"orange\", \"peach\", \"raspberry\"]]\n",
        "print(fruits[1:2])"
      ],
      "metadata": {
        "colab": {
          "base_uri": "https://localhost:8080/"
        },
        "id": "8si7-MSE9wN7",
        "outputId": "dce98570-e0d3-4218-9a65-04ecab76d0aa"
      },
      "execution_count": 16,
      "outputs": [
        {
          "output_type": "stream",
          "name": "stdout",
          "text": [
            "[['kiwi', 'watermelon', 'blueberry']]\n"
          ]
        }
      ]
    },
    {
      "cell_type": "markdown",
      "source": [
        "3: Write a list comprehension to create a list of odd numbers from 1 to 21"
      ],
      "metadata": {
        "id": "IlEGiQYgAZjX"
      }
    },
    {
      "cell_type": "code",
      "source": [
        "odd_numbers = [x for x in range(1, 22) if x % 2 != 0]\n",
        "print(odd_numbers)\n"
      ],
      "metadata": {
        "colab": {
          "base_uri": "https://localhost:8080/"
        },
        "id": "awMQ-tliAar4",
        "outputId": "add82868-c964-47c6-be81-745c9d581128"
      },
      "execution_count": 17,
      "outputs": [
        {
          "output_type": "stream",
          "name": "stdout",
          "text": [
            "[1, 3, 5, 7, 9, 11, 13, 15, 17, 19, 21]\n"
          ]
        }
      ]
    }
  ]
}