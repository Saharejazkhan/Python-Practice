{
  "nbformat": 4,
  "nbformat_minor": 0,
  "metadata": {
    "colab": {
      "provenance": []
    },
    "kernelspec": {
      "name": "python3",
      "display_name": "Python 3"
    },
    "language_info": {
      "name": "python"
    }
  },
  "cells": [
    {
      "cell_type": "markdown",
      "source": [
        "List Operations & Methods\n",
        "*italicized text*"
      ],
      "metadata": {
        "id": "SS3jBCjCmo3N"
      }
    },
    {
      "cell_type": "markdown",
      "source": [
        "1. append() - Add to end"
      ],
      "metadata": {
        "id": "fuoLyUdCn9Bn"
      }
    },
    {
      "cell_type": "code",
      "source": [
        "#append is used to add a value at the end.\n",
        "\n",
        "my_list=[\"apple\",\"mango\",\"banana\"]\n",
        "my_list.append(\"orange\")\n",
        "print(my_list)"
      ],
      "metadata": {
        "colab": {
          "base_uri": "https://localhost:8080/"
        },
        "id": "UvgIQ5YnmsHB",
        "outputId": "a21cf740-96db-4d08-cb1b-5344dda8e6e5"
      },
      "execution_count": 4,
      "outputs": [
        {
          "output_type": "stream",
          "name": "stdout",
          "text": [
            "['apple', 'mango', 'banana', 'orange']\n"
          ]
        }
      ]
    },
    {
      "cell_type": "markdown",
      "source": [
        "2. insert(index, value) - Insert at index"
      ],
      "metadata": {
        "id": "vg20WzpZnz9g"
      }
    },
    {
      "cell_type": "code",
      "source": [
        "# Insert is used to add a value at certein index."
      ],
      "metadata": {
        "id": "LB66ZrkFm4kV"
      },
      "execution_count": null,
      "outputs": []
    },
    {
      "cell_type": "code",
      "source": [
        "my_list=[\"apple\",\"mango\",\"banana\"]\n",
        "my_list.insert(1,\"orange\")\n",
        "print(my_list)"
      ],
      "metadata": {
        "colab": {
          "base_uri": "https://localhost:8080/"
        },
        "id": "drCAQlUhoeRE",
        "outputId": "9253499f-9ef9-4a7a-d4aa-5380ccbb4ad2"
      },
      "execution_count": 5,
      "outputs": [
        {
          "output_type": "stream",
          "name": "stdout",
          "text": [
            "['apple', 'orange', 'mango', 'banana']\n"
          ]
        }
      ]
    },
    {
      "cell_type": "markdown",
      "source": [
        "3. extend(iterable) - Add multiple elements\n"
      ],
      "metadata": {
        "id": "baTyHrquonZi"
      }
    },
    {
      "cell_type": "code",
      "source": [
        "#extend is used to add more values at the end.\n",
        "\n",
        "my_list=[\"apple\",\"mango\",\"banana\"]\n",
        "my_list.extend([\"orange\",\"kiwi\", \"cherry\"])\n",
        "print(my_list)"
      ],
      "metadata": {
        "colab": {
          "base_uri": "https://localhost:8080/"
        },
        "id": "O6Qfor3OotTe",
        "outputId": "026ad46a-8ce9-419c-d4f4-a8c75029f4e2"
      },
      "execution_count": 6,
      "outputs": [
        {
          "output_type": "stream",
          "name": "stdout",
          "text": [
            "['apple', 'mango', 'banana', 'orange', 'kiwi', 'cherry']\n"
          ]
        }
      ]
    },
    {
      "cell_type": "markdown",
      "source": [
        "4. remove(value) - Remove first match"
      ],
      "metadata": {
        "id": "1M0NnjoQpFfH"
      }
    },
    {
      "cell_type": "code",
      "source": [
        "# remove is used to remove any value from the list.\n",
        "\n",
        "my_list=[\"apple\",\"mango\",\"banana\"]\n",
        "my_list.remove(\"mango\")\n",
        "print(my_list)"
      ],
      "metadata": {
        "colab": {
          "base_uri": "https://localhost:8080/"
        },
        "id": "baZAL0dVpNCx",
        "outputId": "064f582d-405e-40fd-faeb-3ac9f5e49db7"
      },
      "execution_count": 7,
      "outputs": [
        {
          "output_type": "stream",
          "name": "stdout",
          "text": [
            "['apple', 'banana']\n"
          ]
        }
      ]
    },
    {
      "cell_type": "markdown",
      "source": [
        "5. pop([index]) – Remove by index (last by default)\n",
        "\n",
        "\n"
      ],
      "metadata": {
        "id": "CXLoBy22pfGh"
      }
    },
    {
      "cell_type": "code",
      "source": [
        "my_list=[\"apple\",\"mango\",\"banana\"]\n",
        "my_list.pop(1)\n",
        "print(my_list)"
      ],
      "metadata": {
        "colab": {
          "base_uri": "https://localhost:8080/"
        },
        "id": "6yXvPW0SqKyn",
        "outputId": "7f297bd5-91c8-4488-fb50-a84f6d192921"
      },
      "execution_count": 17,
      "outputs": [
        {
          "output_type": "stream",
          "name": "stdout",
          "text": [
            "['apple', 'banana']\n"
          ]
        }
      ]
    },
    {
      "cell_type": "code",
      "source": [
        "# to remove last value leave the bracket empty () like this.\n",
        "\n",
        "my_list=[\"apple\",\"mango\",\"banana\"]\n",
        "my_list.pop()\n",
        "print(my_list)"
      ],
      "metadata": {
        "colab": {
          "base_uri": "https://localhost:8080/"
        },
        "id": "MUX5a3O4qJ4z",
        "outputId": "750e23aa-42f2-40fb-fe9b-9b35f2d4236b"
      },
      "execution_count": 18,
      "outputs": [
        {
          "output_type": "stream",
          "name": "stdout",
          "text": [
            "['apple', 'mango']\n"
          ]
        }
      ]
    },
    {
      "cell_type": "markdown",
      "source": [
        "6. clear() - Empty the list"
      ],
      "metadata": {
        "id": "4ecujJjdqmhz"
      }
    },
    {
      "cell_type": "code",
      "source": [
        "my_list.clear()\n",
        "print(my_list)"
      ],
      "metadata": {
        "colab": {
          "base_uri": "https://localhost:8080/"
        },
        "id": "l1MEJ81aqss1",
        "outputId": "1488f4f2-6a05-44b4-bc69-56615917670e"
      },
      "execution_count": 19,
      "outputs": [
        {
          "output_type": "stream",
          "name": "stdout",
          "text": [
            "[]\n"
          ]
        }
      ]
    },
    {
      "cell_type": "markdown",
      "source": [
        "7. index(value) - Get index of first match\n"
      ],
      "metadata": {
        "id": "AegvmF7xq1DC"
      }
    },
    {
      "cell_type": "code",
      "source": [
        "my_list=[\"apple\",\"mango\",\"banana\"]\n",
        "print(my_list.index(\"mango\"))"
      ],
      "metadata": {
        "colab": {
          "base_uri": "https://localhost:8080/"
        },
        "id": "g6Uck5inq9he",
        "outputId": "bbad5164-5a14-41f6-a6f2-98a3854c900f"
      },
      "execution_count": 20,
      "outputs": [
        {
          "output_type": "stream",
          "name": "stdout",
          "text": [
            "1\n"
          ]
        }
      ]
    },
    {
      "cell_type": "markdown",
      "source": [
        "8. count(value) - Count occurrences"
      ],
      "metadata": {
        "id": "7RWduMNirIc2"
      }
    },
    {
      "cell_type": "code",
      "source": [
        "my_list=[\"apple\",\"mango\",\"banana\",\"mango\"]\n",
        "print(my_list.count(\"mango\"))"
      ],
      "metadata": {
        "colab": {
          "base_uri": "https://localhost:8080/"
        },
        "id": "mp99zHf9rKkr",
        "outputId": "7061b632-ea46-40e4-9dc6-8d5c43a480ac"
      },
      "execution_count": 21,
      "outputs": [
        {
          "output_type": "stream",
          "name": "stdout",
          "text": [
            "2\n"
          ]
        }
      ]
    },
    {
      "cell_type": "markdown",
      "source": [
        "9. sort() - Sort in place"
      ],
      "metadata": {
        "id": "a8nIeBbXrVr9"
      }
    },
    {
      "cell_type": "code",
      "source": [
        "my_list=[\"apple\",\"mango\",\"banana\"]\n",
        "my_list.sort()\n",
        "print(my_list)"
      ],
      "metadata": {
        "colab": {
          "base_uri": "https://localhost:8080/"
        },
        "id": "MCBfQ8EJraZd",
        "outputId": "2aa9ac68-fea9-4a14-c741-0b3e4dad9aa1"
      },
      "execution_count": 22,
      "outputs": [
        {
          "output_type": "stream",
          "name": "stdout",
          "text": [
            "['apple', 'banana', 'mango']\n"
          ]
        }
      ]
    },
    {
      "cell_type": "markdown",
      "source": [
        "10. reverse() - Reverse order"
      ],
      "metadata": {
        "id": "atp1fjf1rnlZ"
      }
    },
    {
      "cell_type": "code",
      "source": [
        "my_list = [\"apple\", \"mango\", \"banana\"]\n",
        "my_list.reverse()\n",
        "print(my_list)"
      ],
      "metadata": {
        "colab": {
          "base_uri": "https://localhost:8080/"
        },
        "id": "jSCn5Orqrrq6",
        "outputId": "30094e44-c4c2-4fef-fab2-d6ec14cbbf7b"
      },
      "execution_count": 23,
      "outputs": [
        {
          "output_type": "stream",
          "name": "stdout",
          "text": [
            "['banana', 'mango', 'apple']\n"
          ]
        }
      ]
    },
    {
      "cell_type": "markdown",
      "source": [
        "11. copy() - Shallow copy"
      ],
      "metadata": {
        "id": "_t7UoW7br2ui"
      }
    },
    {
      "cell_type": "code",
      "source": [
        "# Copy() is used to copy existing list to new list.\n",
        "\n",
        "my_list = [\"apple\", \"mango\", \"banana\", \"cherry\"]\n",
        "new_list = my_list.copy()\n",
        "print(new_list)\n"
      ],
      "metadata": {
        "colab": {
          "base_uri": "https://localhost:8080/"
        },
        "id": "oNb7RbWmr64K",
        "outputId": "515456b7-1d7e-4dc7-9b52-b5365a6464c1"
      },
      "execution_count": 26,
      "outputs": [
        {
          "output_type": "stream",
          "name": "stdout",
          "text": [
            "['apple', 'mango', 'banana', 'cherry']\n"
          ]
        }
      ]
    },
    {
      "cell_type": "markdown",
      "source": [],
      "metadata": {
        "id": "uSL0q0wZrnjU"
      }
    }
  ]
}